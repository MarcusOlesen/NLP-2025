{
 "cells": [
  {
   "cell_type": "markdown",
   "metadata": {},
   "source": [
    "# Handling text exercise"
   ]
  },
  {
   "cell_type": "markdown",
   "metadata": {},
   "source": [
    "## Part 1: Hands on tutorial\n",
    "1. Implementing the natural language processing pipeline\n",
    "2. Solving four typical language processing tasks:\n",
    "   * Sentiment analysis\n",
    "   * Document classification\n",
    "   * Topic detection\n",
    "   * Semantic analysis\n",
    "\n",
    "\n",
    "### We will be working with four books in plain text:\n",
    "1. Moby-Dick, by Herman Melville\n",
    "2. Frankenstein; or, The Modern Prometheus, by Mary Shelley\n",
    "3. Pride and Prejudice, by Jane Austen\n",
    "4. Dracula, Bram Stoker\n",
    "\n",
    "#### To run this notebook, you need to install the following libraries:\n",
    "\n",
    "pip install nltk gensim spacy <br>\n",
    "pip install pyLDAvis  <br>\n",
    "pip install empath <br>\n",
    "pip install matplotlib <br>\n",
    "python -m spacy download en  <br>\n",
    "python -m nltk.downloader punkt <br>\n",
    "python -m nltk.downloader all-corpora <br>\n",
    "\n",
    "## Part 2: Handling text comprehension questions\n",
    "- You can test your understanding of important NLP concepts. \n",
    "\n",
    "## Part 3: Coding exercise\n",
    "- When you are done, in `Handling Text - Part 2.ipynb`, you will find additional exercises you can work on independently."
   ]
  },
  {
   "cell_type": "markdown",
   "metadata": {},
   "source": [
    "## Part 1"
   ]
  },
  {
   "cell_type": "code",
   "execution_count": 57,
   "metadata": {},
   "outputs": [
    {
     "name": "stdout",
     "output_type": "stream",
     "text": [
      "The autoreload extension is already loaded. To reload it, use:\n",
      "  %reload_ext autoreload\n"
     ]
    },
    {
     "name": "stderr",
     "output_type": "stream",
     "text": [
      "[nltk_data] Downloading package punkt_tab to\n",
      "[nltk_data]     C:\\Users\\au700932\\AppData\\Roaming\\nltk_data...\n",
      "[nltk_data]   Package punkt_tab is already up-to-date!\n"
     ]
    }
   ],
   "source": [
    "%load_ext autoreload\n",
    "%autoreload 2\n",
    "\n",
    "import warnings; warnings.simplefilter('ignore')\n",
    "import os, codecs, string, random\n",
    "import numpy as np\n",
    "from numpy.random import seed as random_seed\n",
    "from numpy.random import shuffle as random_shuffle\n",
    "import matplotlib.pyplot as plt\n",
    "%matplotlib inline  \n",
    "\n",
    "seed = 42\n",
    "random.seed(seed)\n",
    "np.random.seed(seed)\n",
    "\n",
    "#NLP libraries\n",
    "import spacy, nltk, gensim, sklearn\n",
    "nltk.download('punkt_tab')\n",
    "\n",
    "#import pyLDAvis.gensim\n",
    "import pyLDAvis.gensim_models\n",
    "\n",
    "# Vader\n",
    "import vaderSentiment\n",
    "from vaderSentiment.vaderSentiment import SentimentIntensityAnalyzer\n",
    "\n",
    "#Scikit imports\n",
    "from sklearn.feature_extraction.text import CountVectorizer\n",
    "from sklearn.model_selection import train_test_split\n",
    "from sklearn.model_selection import cross_val_score\n",
    "from sklearn.linear_model import LogisticRegression\n",
    "from sklearn import preprocessing\n",
    "from sklearn.preprocessing import StandardScaler\n",
    "from sklearn.utils import shuffle\n",
    "\n",
    "#The data\n",
    "corpus_root = 'books/'"
   ]
  },
  {
   "cell_type": "markdown",
   "metadata": {},
   "source": [
    "#### In this tutorial we will be working with text in English. The same principles apply, but the methods cannot be applied directly to the text in unknown or other languages. We will be working mainly with the Spacy library."
   ]
  },
  {
   "cell_type": "markdown",
   "metadata": {},
   "source": [
    "Initialize the Spacy analyzer in English"
   ]
  },
  {
   "cell_type": "code",
   "execution_count": 6,
   "metadata": {},
   "outputs": [],
   "source": [
    "nlp = spacy.load('en_core_web_sm')"
   ]
  },
  {
   "cell_type": "markdown",
   "metadata": {},
   "source": [
    "Load the books"
   ]
  },
  {
   "cell_type": "code",
   "execution_count": 7,
   "metadata": {},
   "outputs": [
    {
     "name": "stdout",
     "output_type": "stream",
     "text": [
      "DRACULA.txt\n",
      "Frankenstein.txt\n",
      "Moby_Dick.txt\n",
      "PRIDE_AND_PREJUDICE.txt\n"
     ]
    }
   ],
   "source": [
    "books = list()\n",
    "\n",
    "for book_file in os.listdir(corpus_root):\n",
    "    if \".txt\" in book_file:\n",
    "        print(book_file)\n",
    "        with codecs.open(os.path.join(corpus_root,book_file),encoding=\"utf8\") as f:\n",
    "            books.append(f.read())"
   ]
  },
  {
   "cell_type": "markdown",
   "metadata": {},
   "source": [
    "Print the beginning of Pride and Prejudice"
   ]
  },
  {
   "cell_type": "code",
   "execution_count": 8,
   "metadata": {},
   "outputs": [
    {
     "name": "stdout",
     "output_type": "stream",
     "text": [
      "PRIDE AND PREJUDICE\n",
      "\n",
      "By Jane Austen\n",
      "\n",
      "\n",
      "\n",
      "Chapter 1\n",
      "\n",
      "\n",
      "It is a truth universally acknowledged, that a single man in possession\n",
      "of a good fortune, must be in want of a wife.\n",
      "\n",
      "However little known the feelings or views of such a man may be on his\n",
      "first entering a neighbourhood, this truth is so well fixed in the minds\n",
      "of the surrounding families, that he is considered the rightful property\n",
      "of some one or other of their daughters.\n",
      "\n",
      "“My dear Mr. Bennet,” said his lady to him one day, “have you heard that\n",
      "Netherfield Park is let at last?”\n",
      "\n",
      "Mr. Bennet replied that he had not.\n",
      "\n",
      "“But\n"
     ]
    }
   ],
   "source": [
    "print(books[3][0:600])"
   ]
  },
  {
   "cell_type": "markdown",
   "metadata": {},
   "source": [
    "#### Let's remove the new lines"
   ]
  },
  {
   "cell_type": "code",
   "execution_count": 9,
   "metadata": {},
   "outputs": [],
   "source": [
    "books = [\" \".join(b.split()) for b in books]"
   ]
  },
  {
   "cell_type": "code",
   "execution_count": 10,
   "metadata": {},
   "outputs": [
    {
     "name": "stdout",
     "output_type": "stream",
     "text": [
      "PRIDE AND PREJUDICE By Jane Austen Chapter 1 It is a truth universally acknowledged, that a single man in possession of a good fortune, must be in want of a wife. However little known the feelings or views of such a man may be on his first entering a neighbourhood, this truth is so well fixed in the minds of the surrounding families, that he is considered the rightful property of some one or other of their daughters. “My dear Mr. Bennet,” said his lady to him one day, “have you heard that Netherfield Park is let at last?” Mr. Bennet replied that he had not. “But it is,” returned she; “for Mrs.\n"
     ]
    }
   ],
   "source": [
    "print(books[3][0:600])"
   ]
  },
  {
   "cell_type": "markdown",
   "metadata": {},
   "source": [
    "### Load Frankenstein"
   ]
  },
  {
   "cell_type": "code",
   "execution_count": 11,
   "metadata": {},
   "outputs": [],
   "source": [
    "#index all books\n",
    "book = books[1]\n",
    "\n",
    "#put in raw text, get a Spacy object\n",
    "doc = nlp(book)"
   ]
  },
  {
   "cell_type": "markdown",
   "metadata": {},
   "source": [
    "## Let's create our own NLP pipeline with Spacy!"
   ]
  },
  {
   "cell_type": "markdown",
   "metadata": {},
   "source": [
    "### Step 1: Sentence splitting\n",
    "\n",
    "#### May sound trivial, but it's not! (e.g., U.K. or Yahoo!) Spacy uses a statistical model to generate accurate predictions. This works well out of the box for general-purpose text or web text. For social media use dedicated libraries."
   ]
  },
  {
   "cell_type": "code",
   "execution_count": 12,
   "metadata": {},
   "outputs": [
    {
     "name": "stdout",
     "output_type": "stream",
     "text": [
      "Sentence 1: Frankenstein, or the Modern Prometheus by Mary Wollstonecraft (Godwin) Shelley Letter 1 St. Petersburgh, Dec. 11th, 17-- TO Mrs. Saville, England You will rejoice to hear that no disaster has accompanied the commencement of an enterprise which you have regarded with such evil forebodings. \n",
      "\n",
      "Sentence 2: I arrived here yesterday, and my first task is to assure my dear sister of my welfare and increasing confidence in the success of my undertaking. \n",
      "\n",
      "Sentence 3: I am already far north of London, and as I walk in the streets of Petersburgh, I feel a cold northern breeze play upon my cheeks, which braces my nerves and fills me with delight. \n",
      "\n"
     ]
    }
   ],
   "source": [
    "sentences = [sent for sent in doc.sents]\n",
    "print('Sentence 1:',sentences[0],'\\n')\n",
    "print('Sentence 2:',sentences[1],'\\n')\n",
    "print('Sentence 3:',sentences[2],'\\n')"
   ]
  },
  {
   "cell_type": "markdown",
   "metadata": {},
   "source": [
    "### Step 2: Tokenization\n",
    "\n",
    "#### The task of splitting a text into meaningful segments called tokens. We segment the sentence into words, punctuation, etc. This is done by first splitting on whitespace characters and them applying rules specific to each language. For example, \"don't\" does not contain whitespace, but should be split into two tokens, \"do\" and \"n't\", while \"U.K.\" should always remain one token and \"but,\" shouldn't."
   ]
  },
  {
   "cell_type": "markdown",
   "metadata": {},
   "source": [
    "### We will analyze the methods on an example sentence first"
   ]
  },
  {
   "cell_type": "code",
   "execution_count": 13,
   "metadata": {},
   "outputs": [
    {
     "name": "stdout",
     "output_type": "stream",
     "text": [
      "I am already far north of London, and as I walk in the streets of Petersburgh, I feel a cold northern breeze play upon my cheeks, which braces my nerves and fills me with delight. \n",
      "\n",
      "['I', 'am', 'already', 'far', 'north', 'of', 'London', ',', 'and', 'as', 'I', 'walk', 'in', 'the', 'streets', 'of', 'Petersburgh', ',', 'I', 'feel', 'a', 'cold', 'northern', 'breeze', 'play', 'upon', 'my', 'cheeks', ',', 'which', 'braces', 'my', 'nerves', 'and', 'fills', 'me', 'with', 'delight', '.']\n"
     ]
    }
   ],
   "source": [
    "example = 'I am already far north of London, and as I walk in the streets of Petersburgh, I feel a cold northern breeze play upon my cheeks, which braces my nerves and fills me with delight.'\n",
    "\n",
    "doc = nlp(example)\n",
    "\n",
    "#strings are encoded to hashes\n",
    "tokens = [token.text for token in doc]\n",
    "\n",
    "print(example,'\\n')\n",
    "print(tokens)"
   ]
  },
  {
   "cell_type": "markdown",
   "metadata": {},
   "source": [
    "### Step 3: Part of speech tagging\n",
    "\n",
    "#### The model makes a prediction of which tag or label most likely applies in this context. For example, a word following \"the\" in English is most likely a noun."
   ]
  },
  {
   "cell_type": "code",
   "execution_count": 14,
   "metadata": {},
   "outputs": [
    {
     "name": "stdout",
     "output_type": "stream",
     "text": [
      "I am already far north of London, and as I walk in the streets of Petersburgh, I feel a cold northern breeze play upon my cheeks, which braces my nerves and fills me with delight. \n",
      "\n",
      "[('I', 'PRON'), ('am', 'AUX'), ('already', 'ADV'), ('far', 'ADV'), ('north', 'ADV'), ('of', 'ADP'), ('London', 'PROPN'), (',', 'PUNCT'), ('and', 'CCONJ'), ('as', 'SCONJ'), ('I', 'PRON'), ('walk', 'VERB'), ('in', 'ADP'), ('the', 'DET'), ('streets', 'NOUN'), ('of', 'ADP'), ('Petersburgh', 'PROPN'), (',', 'PUNCT'), ('I', 'PRON'), ('feel', 'VERB'), ('a', 'DET'), ('cold', 'ADJ'), ('northern', 'ADJ'), ('breeze', 'NOUN'), ('play', 'VERB'), ('upon', 'SCONJ'), ('my', 'PRON'), ('cheeks', 'NOUN'), (',', 'PUNCT'), ('which', 'PRON'), ('braces', 'VERB'), ('my', 'PRON'), ('nerves', 'NOUN'), ('and', 'CCONJ'), ('fills', 'VERB'), ('me', 'PRON'), ('with', 'ADP'), ('delight', 'NOUN'), ('.', 'PUNCT')]\n"
     ]
    }
   ],
   "source": [
    "pos_tagged = [(token.text, token.pos_) for token in doc]\n",
    "\n",
    "print(example,'\\n')\n",
    "print(pos_tagged)"
   ]
  },
  {
   "cell_type": "code",
   "execution_count": 15,
   "metadata": {},
   "outputs": [
    {
     "name": "stdout",
     "output_type": "stream",
     "text": [
      "coordinating conjunction\n",
      "adposition\n",
      "determiner\n"
     ]
    }
   ],
   "source": [
    "print(spacy.explain('CCONJ'))\n",
    "print(spacy.explain('ADP'))\n",
    "print(spacy.explain('DET'))"
   ]
  },
  {
   "cell_type": "markdown",
   "metadata": {},
   "source": [
    "### When unsure, see here for more details: http://universaldependencies.org/u/pos/all.html"
   ]
  },
  {
   "cell_type": "markdown",
   "metadata": {},
   "source": [
    "#### More detailed annotation:"
   ]
  },
  {
   "cell_type": "code",
   "execution_count": 16,
   "metadata": {},
   "outputs": [
    {
     "name": "stdout",
     "output_type": "stream",
     "text": [
      "[('I', 'PRP'), ('am', 'VBP'), ('already', 'RB'), ('far', 'RB'), ('north', 'RB'), ('of', 'IN'), ('London', 'NNP'), (',', ','), ('and', 'CC'), ('as', 'IN'), ('I', 'PRP'), ('walk', 'VBP'), ('in', 'IN'), ('the', 'DT'), ('streets', 'NNS'), ('of', 'IN'), ('Petersburgh', 'NNP'), (',', ','), ('I', 'PRP'), ('feel', 'VBP'), ('a', 'DT'), ('cold', 'JJ'), ('northern', 'JJ'), ('breeze', 'NN'), ('play', 'VB'), ('upon', 'IN'), ('my', 'PRP$'), ('cheeks', 'NNS'), (',', ','), ('which', 'WDT'), ('braces', 'VBZ'), ('my', 'PRP$'), ('nerves', 'NNS'), ('and', 'CC'), ('fills', 'VBZ'), ('me', 'PRP'), ('with', 'IN'), ('delight', 'NN'), ('.', '.')]\n"
     ]
    }
   ],
   "source": [
    "pos_tagged = [(token.text, token.tag_) for token in doc]\n",
    "\n",
    "print(pos_tagged)"
   ]
  },
  {
   "cell_type": "code",
   "execution_count": 17,
   "metadata": {},
   "outputs": [
    {
     "name": "stdout",
     "output_type": "stream",
     "text": [
      "pronoun, personal\n",
      "verb, non-3rd person singular present\n"
     ]
    }
   ],
   "source": [
    "print(spacy.explain('PRP'))\n",
    "print(spacy.explain('VBP'))"
   ]
  },
  {
   "cell_type": "markdown",
   "metadata": {},
   "source": [
    "### Step 4: Named entity recognition\n",
    "\n",
    "#### For example, a person, a country, a product or a book title. Spacy can recognise various types of named entities in a document. This doesn't always work perfectly and might need some tuning later, depending on your use case.\n",
    "\n",
    "Built in entity types: <br>\n",
    "\n",
    "PERSON  People, including fictional.  <br>\n",
    "NORP\tNationalities or religious or political groups. <br>\n",
    "FAC\tBuildings, airports, highways, bridges, etc. <br>\n",
    "ORG\tCompanies, agencies, institutions, etc. <br>\n",
    "GPE\tCountries, cities, states. <br>\n",
    "LOC\tNon-GPE locations, mountain ranges, bodies of water. <br>\n",
    "PRODUCT\tObjects, vehicles, foods, etc. (Not services.) <br>\n",
    "EVENT\tNamed hurricanes, battles, wars, sports events, etc. <br>\n",
    "WORK_OF_ART\tTitles of books, songs, etc. <br>\n",
    "LAW\tNamed documents made into laws. <br>\n",
    "LANGUAGE\tAny named language. <br>\n",
    "DATE\tAbsolute or relative dates or periods. <br>\n",
    "TIME\tTimes smaller than a day. <br>\n",
    "PERCENT\tPercentage, including \"%\". <br>\n",
    "MONEY\tMonetary values, including unit. <br>\n",
    "QUANTITY\tMeasurements, as of weight or distance. <br>\n",
    "ORDINAL\t\"first\", \"second\", etc. <br>\n",
    "CARDINAL\tNumerals that do not fall under another type. <br>"
   ]
  },
  {
   "cell_type": "code",
   "execution_count": 18,
   "metadata": {},
   "outputs": [
    {
     "name": "stdout",
     "output_type": "stream",
     "text": [
      "I am already far north of London, and as I walk in the streets of Petersburgh, I feel a cold northern breeze play upon my cheeks, which braces my nerves and fills me with delight. \n",
      "\n",
      "London GPE\n",
      "Petersburgh GPE\n"
     ]
    }
   ],
   "source": [
    "print(example,'\\n')\n",
    "for ent in doc.ents:\n",
    "    print(ent.text, ent.label_)"
   ]
  },
  {
   "cell_type": "markdown",
   "metadata": {},
   "source": [
    "### Step 5: Removing stop words"
   ]
  },
  {
   "cell_type": "markdown",
   "metadata": {},
   "source": [
    "Let's check out all the stopwords:"
   ]
  },
  {
   "cell_type": "code",
   "execution_count": 19,
   "metadata": {},
   "outputs": [
    {
     "name": "stdout",
     "output_type": "stream",
     "text": [
      "Number of stop words: 326\n",
      "First ten stop words: ['hereafter', 'ourselves', '’ve', 'who', 'there', 'make', 'any', 'everyone', 'did', 'we']\n"
     ]
    }
   ],
   "source": [
    "spacy_stopwords = spacy.lang.en.stop_words.STOP_WORDS\n",
    "print('Number of stop words: %d' % len(spacy_stopwords))\n",
    "print('First ten stop words:',list(spacy_stopwords)[:10])"
   ]
  },
  {
   "cell_type": "markdown",
   "metadata": {},
   "source": [
    "Detecting stopwords in the example:"
   ]
  },
  {
   "cell_type": "code",
   "execution_count": 20,
   "metadata": {},
   "outputs": [
    {
     "name": "stdout",
     "output_type": "stream",
     "text": [
      "I am already far north of London, and as I walk in the streets of Petersburgh, I feel a cold northern breeze play upon my cheeks, which braces my nerves and fills me with delight. \n",
      "\n",
      "['I', 'am', 'already', 'of', 'and', 'as', 'I', 'in', 'the', 'of', 'I', 'a', 'upon', 'my', 'which', 'my', 'and', 'me', 'with']\n"
     ]
    }
   ],
   "source": [
    "print(example,'\\n')\n",
    "\n",
    "stop_words = [token.text for token in doc if token.is_stop]\n",
    "\n",
    "print(stop_words)"
   ]
  },
  {
   "cell_type": "markdown",
   "metadata": {},
   "source": [
    "#### Sometimes it's useful to define a custom list of stopwords. Other solutions: https://www.ranks.nl/stopwords \n"
   ]
  },
  {
   "cell_type": "markdown",
   "metadata": {},
   "source": [
    "### Step 6: Lemmatization\n",
    "\n",
    "#### A rule-based deterministic lemmatizer maps the surface form of a token to a lemma."
   ]
  },
  {
   "cell_type": "code",
   "execution_count": 21,
   "metadata": {},
   "outputs": [
    {
     "name": "stdout",
     "output_type": "stream",
     "text": [
      "I am already far north of London, and as I walk in the streets of Petersburgh, I feel a cold northern breeze play upon my cheeks, which braces my nerves and fills me with delight. \n",
      "\n",
      "am ---> be\n",
      "streets ---> street\n",
      "cheeks ---> cheek\n",
      "braces ---> brace\n",
      "nerves ---> nerve\n",
      "fills ---> fill\n",
      "me ---> I\n"
     ]
    }
   ],
   "source": [
    "print(example,'\\n')\n",
    "for token in doc:\n",
    "    if token.text != token.lemma_:\n",
    "        print(token.text,'--->',token.lemma_)"
   ]
  },
  {
   "cell_type": "markdown",
   "metadata": {},
   "source": [
    "### Step 7: Chunking (shallow parsing)\n",
    "\n",
    "#### Noun chunks are \"base noun phrases\" – flat phrases that have a noun as their head -- a noun plus the words describing the noun – for example, \"the lavish green grass\" or \"the world’s largest tech fund\". "
   ]
  },
  {
   "cell_type": "code",
   "execution_count": 22,
   "metadata": {},
   "outputs": [
    {
     "name": "stdout",
     "output_type": "stream",
     "text": [
      "I am already far north of London, and as I walk in the streets of Petersburgh, I feel a cold northern breeze play upon my cheeks, which braces my nerves and fills me with delight. \n",
      "\n",
      "I\n",
      "London\n",
      "I\n",
      "the streets\n",
      "Petersburgh\n",
      "I\n",
      "my cheeks\n",
      "which\n",
      "my nerves\n",
      "me\n",
      "delight\n"
     ]
    }
   ],
   "source": [
    "print(example,'\\n')\n",
    "\n",
    "for chunk in doc.noun_chunks:\n",
    "    print(chunk.text)"
   ]
  },
  {
   "cell_type": "markdown",
   "metadata": {},
   "source": [
    "### Step 8: Dependancy parsing\n",
    "\n",
    "#### The terms head and child describe the words connected by an arc in the dependency tree. The type of syntactic relation that connects the child to the head can be obtain through .dep_."
   ]
  },
  {
   "cell_type": "code",
   "execution_count": 23,
   "metadata": {},
   "outputs": [
    {
     "name": "stdout",
     "output_type": "stream",
     "text": [
      "I am already far north of London, and as I walk in the streets of Petersburgh, I feel a cold northern breeze play upon my cheeks, which braces my nerves and fills me with delight. \n",
      "\n",
      "Token: I Head: am Children: []\n",
      "Token: am Head: am Children: [I, already, north, ,, and, feel]\n",
      "Token: already Head: am Children: []\n",
      "Token: far Head: north Children: []\n",
      "Token: north Head: am Children: [far, of]\n",
      "Token: of Head: north Children: [London]\n",
      "Token: London Head: of Children: []\n",
      "Token: , Head: am Children: []\n",
      "Token: and Head: am Children: []\n",
      "Token: as Head: walk Children: []\n",
      "Token: I Head: walk Children: []\n",
      "Token: walk Head: feel Children: [as, I, in]\n",
      "Token: in Head: walk Children: [streets]\n",
      "Token: the Head: streets Children: []\n",
      "Token: streets Head: in Children: [the, of]\n",
      "Token: of Head: streets Children: [Petersburgh]\n",
      "Token: Petersburgh Head: of Children: []\n",
      "Token: , Head: feel Children: []\n",
      "Token: I Head: feel Children: []\n",
      "Token: feel Head: am Children: [walk, ,, I, play, .]\n",
      "Token: a Head: play Children: []\n",
      "Token: cold Head: breeze Children: []\n",
      "Token: northern Head: breeze Children: []\n",
      "Token: breeze Head: play Children: [cold, northern]\n",
      "Token: play Head: feel Children: [a, breeze, upon]\n",
      "Token: upon Head: play Children: [cheeks]\n",
      "Token: my Head: cheeks Children: []\n",
      "Token: cheeks Head: upon Children: [my, ,, braces]\n",
      "Token: , Head: cheeks Children: []\n",
      "Token: which Head: braces Children: []\n",
      "Token: braces Head: cheeks Children: [which, nerves, and, fills]\n",
      "Token: my Head: nerves Children: []\n",
      "Token: nerves Head: braces Children: [my]\n",
      "Token: and Head: braces Children: []\n",
      "Token: fills Head: braces Children: [me, with]\n",
      "Token: me Head: fills Children: []\n",
      "Token: with Head: fills Children: [delight]\n",
      "Token: delight Head: with Children: []\n",
      "Token: . Head: feel Children: []\n"
     ]
    }
   ],
   "source": [
    "print(example,'\\n')\n",
    "\n",
    "for token in doc:\n",
    "    print('Token:',token.text,'Head:',token.head.text, 'Children:',[child for child in token.children])"
   ]
  },
  {
   "cell_type": "markdown",
   "metadata": {},
   "source": [
    "### Counting word occurences"
   ]
  },
  {
   "cell_type": "code",
   "execution_count": 24,
   "metadata": {},
   "outputs": [
    {
     "name": "stdout",
     "output_type": "stream",
     "text": [
      "I am already far north of London, and as I walk in the streets of Petersburgh, I feel a cold northern breeze play upon my cheeks, which braces my nerves and fills me with delight. \n",
      "\n",
      "[('I', 3), (',', 3), ('of', 2), ('and', 2), ('my', 2), ('am', 1), ('already', 1), ('far', 1), ('north', 1), ('London', 1), ('as', 1), ('walk', 1), ('in', 1), ('the', 1), ('streets', 1), ('Petersburgh', 1), ('feel', 1), ('a', 1), ('cold', 1), ('northern', 1), ('breeze', 1), ('play', 1), ('upon', 1), ('cheeks', 1), ('which', 1), ('braces', 1), ('nerves', 1), ('fills', 1), ('me', 1), ('with', 1), ('delight', 1), ('.', 1)]\n"
     ]
    }
   ],
   "source": [
    "from collections import Counter\n",
    "\n",
    "print(example,'\\n')\n",
    "words = [token.text for token in doc]\n",
    "\n",
    "# five most common tokens\n",
    "word_freq = Counter(words)\n",
    "common_words = word_freq.most_common()\n",
    "\n",
    "print(common_words)"
   ]
  },
  {
   "cell_type": "markdown",
   "metadata": {},
   "source": [
    "### Without stop words and punctuation"
   ]
  },
  {
   "cell_type": "code",
   "execution_count": 25,
   "metadata": {},
   "outputs": [
    {
     "name": "stdout",
     "output_type": "stream",
     "text": [
      "[('far', 1), ('north', 1), ('London', 1), ('walk', 1), ('streets', 1), ('Petersburgh', 1), ('feel', 1), ('cold', 1), ('northern', 1), ('breeze', 1), ('play', 1), ('cheeks', 1), ('braces', 1), ('nerves', 1), ('fills', 1), ('delight', 1)]\n"
     ]
    }
   ],
   "source": [
    "words = [token.text for token in doc if token.is_stop != True and token.is_punct != True]\n",
    "\n",
    "# five most common tokens\n",
    "word_freq = Counter(words)\n",
    "common_words = word_freq.most_common()\n",
    "\n",
    "print(common_words)"
   ]
  },
  {
   "cell_type": "markdown",
   "metadata": {},
   "source": [
    "## Putting all the components together"
   ]
  },
  {
   "cell_type": "markdown",
   "metadata": {},
   "source": [
    "### Under the hood: the pipeline [\"tokenizer\",\"tagger\", \"parser\", \"ner\"]."
   ]
  },
  {
   "cell_type": "markdown",
   "metadata": {},
   "source": [
    "#### The NLP pipeline with Spacy\n",
    "<img src=\"spacy.png\">"
   ]
  },
  {
   "cell_type": "code",
   "execution_count": 26,
   "metadata": {},
   "outputs": [],
   "source": [
    "nlp = spacy.load('en_core_web_sm')"
   ]
  },
  {
   "cell_type": "markdown",
   "metadata": {},
   "source": [
    "### If you don't need a particular component of the pipeline – for example, the tagger or the parser, you can disable loading it. This can sometimes make a big difference and improve loading speed. "
   ]
  },
  {
   "cell_type": "code",
   "execution_count": 27,
   "metadata": {},
   "outputs": [
    {
     "data": {
      "text/plain": [
       "('tagger', <spacy.pipeline.tagger.Tagger at 0x1739c2affb0>)"
      ]
     },
     "execution_count": 27,
     "metadata": {},
     "output_type": "execute_result"
    }
   ],
   "source": [
    "nlp.remove_pipe('parser')\n",
    "nlp.remove_pipe('tagger')"
   ]
  },
  {
   "cell_type": "markdown",
   "metadata": {},
   "source": [
    "# Task 1: Sentiment analysis"
   ]
  },
  {
   "cell_type": "markdown",
   "metadata": {},
   "source": [
    "### Initialize the analyzer. Typically used for data from social media (short sentences)."
   ]
  },
  {
   "cell_type": "code",
   "execution_count": 28,
   "metadata": {},
   "outputs": [],
   "source": [
    "analyzer = SentimentIntensityAnalyzer()\n",
    "vs = analyzer.polarity_scores(example)"
   ]
  },
  {
   "cell_type": "markdown",
   "metadata": {},
   "source": [
    "### The sentiment score consits of four values. Neutral, positive and negative sum to one. The final score is obtained by thresholding the compound value (e.g. +/-0.05)."
   ]
  },
  {
   "cell_type": "code",
   "execution_count": 29,
   "metadata": {},
   "outputs": [
    {
     "name": "stdout",
     "output_type": "stream",
     "text": [
      "I am already far north of London, and as I walk in the streets of Petersburgh, I feel a cold northern breeze play upon my cheeks, which braces my nerves and fills me with delight. \n",
      "\n",
      "Negative sentiment: 0.035\n",
      "Neutral sentiment: 0.806\n",
      "Positive sentiment: 0.159\n",
      "Compound sentiment: 0.7096\n"
     ]
    }
   ],
   "source": [
    "print(example, '\\n')\n",
    "print('Negative sentiment:',vs['neg'])\n",
    "print('Neutral sentiment:',vs['neu'])\n",
    "print('Positive sentiment:',vs['pos'])\n",
    "print('Compound sentiment:',vs['compound'])"
   ]
  },
  {
   "cell_type": "markdown",
   "metadata": {},
   "source": [
    "### We can now observe the distributions of sentiment across all sentences in the book Pride and Prejudice:"
   ]
  },
  {
   "cell_type": "code",
   "execution_count": 30,
   "metadata": {},
   "outputs": [],
   "source": [
    "nlp = spacy.load('en_core_web_sm')\n",
    "doc = nlp(books[3])"
   ]
  },
  {
   "cell_type": "code",
   "execution_count": 31,
   "metadata": {},
   "outputs": [
    {
     "data": {
      "text/plain": [
       "Text(0, 0.5, 'Number of sentences')"
      ]
     },
     "execution_count": 31,
     "metadata": {},
     "output_type": "execute_result"
    },
    {
     "data": {
      "image/png": "[encoded data removed]",
      "text/plain": [
       "<Figure size 640x480 with 1 Axes>"
      ]
     },
     "metadata": {},
     "output_type": "display_data"
    }
   ],
   "source": [
    "positive_sent = []\n",
    "#iterate through the sentences, get polarity scores, choose a value\n",
    "[positive_sent.append(analyzer.polarity_scores(sent.text)['pos']) for sent in doc.sents]\n",
    "plt.hist(positive_sent,bins=15)\n",
    "plt.xlim([0,1])\n",
    "plt.ylim([0,8000])\n",
    "plt.xlabel('Positive sentiment')\n",
    "plt.ylabel('Number of sentences')"
   ]
  },
  {
   "cell_type": "code",
   "execution_count": 32,
   "metadata": {},
   "outputs": [
    {
     "data": {
      "text/plain": [
       "Text(0, 0.5, 'Number of sentences')"
      ]
     },
     "execution_count": 32,
     "metadata": {},
     "output_type": "execute_result"
    },
    {
     "data": {
      "image/png": "[encoded data removed]",
      "text/plain": [
       "<Figure size 640x480 with 1 Axes>"
      ]
     },
     "metadata": {},
     "output_type": "display_data"
    }
   ],
   "source": [
    "negative_sent = []\n",
    "[negative_sent.append(analyzer.polarity_scores(sent.text)['neg']) for sent in doc.sents]\n",
    "plt.hist(negative_sent,bins=15)\n",
    "plt.xlim([0,1])\n",
    "plt.ylim([0,8000])\n",
    "plt.xlabel('Negative sentiment')\n",
    "plt.ylabel('Number of sentences')"
   ]
  },
  {
   "cell_type": "code",
   "execution_count": 33,
   "metadata": {},
   "outputs": [
    {
     "data": {
      "text/plain": [
       "Text(0, 0.5, 'Number of sentences')"
      ]
     },
     "execution_count": 33,
     "metadata": {},
     "output_type": "execute_result"
    },
    {
     "data": {
      "image/png": "[encoded data removed]",
      "text/plain": [
       "<Figure size 640x480 with 1 Axes>"
      ]
     },
     "metadata": {},
     "output_type": "display_data"
    }
   ],
   "source": [
    "total_sent = []\n",
    "[total_sent.append(analyzer.polarity_scores(sent.text)['compound']) for sent in doc.sents]\n",
    "plt.hist(total_sent,bins = 15)\n",
    "plt.xlim([-1,1])\n",
    "plt.ylim([0,8000])\n",
    "plt.xlabel('Compound sentiment')\n",
    "plt.ylabel('Number of sentences')"
   ]
  },
  {
   "cell_type": "code",
   "execution_count": 34,
   "metadata": {},
   "outputs": [
    {
     "name": "stdout",
     "output_type": "stream",
     "text": [
      "Number of positive sentences: 2734\n",
      "Number of negative sentences: 1343\n",
      "Number of neutral sentences: 1872\n"
     ]
    }
   ],
   "source": [
    "sents = [analyzer.polarity_scores(sent.text)['compound'] for sent in doc.sents]\n",
    "print('Number of positive sentences:',sum(np.array(sents)>=0.05))\n",
    "print('Number of negative sentences:',sum(np.array(sents)<=-0.05))\n",
    "print('Number of neutral sentences:',sum(np.abs(np.array(sents))<0.05))"
   ]
  },
  {
   "cell_type": "markdown",
   "metadata": {},
   "source": [
    "#### Most of the sentences are quite neutral in sentiment. This is not the case when working with data from other sources (e.g., in social media opinions are strong and polarized (bimodal distribution))."
   ]
  },
  {
   "cell_type": "markdown",
   "metadata": {},
   "source": [
    "# Task 2: Document classification: Can we detect paragraphs from Frankenstein?"
   ]
  },
  {
   "cell_type": "code",
   "execution_count": 36,
   "metadata": {},
   "outputs": [
    {
     "name": "stdout",
     "output_type": "stream",
     "text": [
      "['DRACULA.txt', 'Frankenstein.txt', 'Moby_Dick.txt', 'PRIDE_AND_PREJUDICE.txt']\n"
     ]
    }
   ],
   "source": [
    "# Let's load our corpus via NLTK this time\n",
    "from nltk.corpus import PlaintextCorpusReader\n",
    "#?PlaintextCorpusReader\n",
    "our_books = PlaintextCorpusReader(corpus_root, '.*.txt')\n",
    "print(our_books.fileids())"
   ]
  },
  {
   "cell_type": "markdown",
   "metadata": {},
   "source": [
    "### We will segment the books into equally long chunks"
   ]
  },
  {
   "cell_type": "code",
   "execution_count": 37,
   "metadata": {},
   "outputs": [
    {
     "name": "stdout",
     "output_type": "stream",
     "text": [
      "DRACULA.txt :\n",
      "Number of sentences: 9303\n",
      "Number of chunks: 187 \n",
      "\n",
      "Frankenstein.txt :\n",
      "Number of sentences: 3378\n",
      "Number of chunks: 68 \n",
      "\n",
      "Moby_Dick.txt :\n",
      "Number of sentences: 9609\n",
      "Number of chunks: 193 \n",
      "\n",
      "PRIDE_AND_PREJUDICE.txt :\n",
      "Number of sentences: 6055\n",
      "Number of chunks: 122 \n",
      "\n"
     ]
    }
   ],
   "source": [
    "def get_chunks(l, n):\n",
    "    \"\"\"Yield successive n-sized chunks from l.\"\"\"\n",
    "    for i in range(0, len(l), n):\n",
    "        yield l[i:i + n]\n",
    "\n",
    "\n",
    "# Get the data\n",
    "book_id = {f:n for n,f in enumerate(our_books.fileids())} # dictionary of books\n",
    "\n",
    "chunks = list()\n",
    "chunk_class = list() # this list contains the original book of the chunk, for evaluation\n",
    "\n",
    "limit = 500 # how many chunks total\n",
    "size = 50 # how many sentences per chunk/page\n",
    "\n",
    "for f in our_books.fileids():\n",
    "    sentences = our_books.sents(f)\n",
    "    print(f,\":\")\n",
    "    print('Number of sentences:',len(sentences))\n",
    "    \n",
    "    # create chunks\n",
    "    chunks_of_sents = [x for x in get_chunks(sentences,size)] # this is a list of lists of sentences, which are a list of tokens\n",
    "    chs = list()\n",
    "    \n",
    "    # regroup so to have a list of chunks which are strings\n",
    "    for c in chunks_of_sents:\n",
    "        grouped_chunk = list()\n",
    "        for s in c:\n",
    "            grouped_chunk.extend(s)\n",
    "        chs.append(\" \".join(grouped_chunk))\n",
    "    print(\"Number of chunks:\",len(chs),'\\n')\n",
    "    \n",
    "    # filter to the limit, to have the same number of chunks per book\n",
    "    chunks.extend(chs[:limit])\n",
    "    chunk_class.extend([book_id[f] for _ in range(len(chs[:limit]))])"
   ]
  },
  {
   "cell_type": "markdown",
   "metadata": {},
   "source": [
    "### Representing the chunks with bag-of-words"
   ]
  },
  {
   "cell_type": "code",
   "execution_count": 38,
   "metadata": {},
   "outputs": [
    {
     "name": "stdout",
     "output_type": "stream",
     "text": [
      "Number of samples: 570\n",
      "Number of features: 23116\n"
     ]
    }
   ],
   "source": [
    "vectorizer = CountVectorizer()\n",
    "\n",
    "#initialize and specify minumum number of occurences to avoid untractable number of features\n",
    "#vectorizer = CountVectorizer(min_df = 2) if we want high frequency\n",
    "\n",
    "#create bag of words features\n",
    "X = vectorizer.fit_transform(chunks)\n",
    "\n",
    "print('Number of samples:',X.toarray().shape[0])\n",
    "print('Number of features:',X.toarray().shape[1])\n",
    "\n",
    "#mask and convert to int Frankenstein\n",
    "Y = np.array(chunk_class) == 1\n",
    "Y = Y.astype(int)  \n",
    "\n",
    "#shuffle the data\n",
    "X, Y = shuffle(X, Y, random_state=0)\n",
    "\n",
    "#split into training and test set\n",
    "X_train, X_test, Y_train, Y_test = train_test_split(X, Y, test_size=0.2, random_state=42)"
   ]
  },
  {
   "cell_type": "markdown",
   "metadata": {},
   "source": [
    "### Let's fit the regularized logistic regression. We will crossvalidate the regularization parameter on the training set."
   ]
  },
  {
   "cell_type": "code",
   "execution_count": 39,
   "metadata": {},
   "outputs": [],
   "source": [
    "accs = []\n",
    "\n",
    "#the grid of regularization parameter \n",
    "grid = [0.01,0.1,1,10,100,1000,10000]\n",
    "\n",
    "for c in grid:\n",
    "    \n",
    "    #initialize the classifier\n",
    "    clf = LogisticRegression(random_state=0, solver='lbfgs',C = c)\n",
    "    \n",
    "    #crossvalidate\n",
    "    scores = cross_val_score(clf, X_train,Y_train, cv=10)\n",
    "    accs.append(np.mean(scores))"
   ]
  },
  {
   "cell_type": "code",
   "execution_count": 40,
   "metadata": {},
   "outputs": [
    {
     "data": {
      "text/plain": [
       "(0.986, 1.0)"
      ]
     },
     "execution_count": 40,
     "metadata": {},
     "output_type": "execute_result"
    },
    {
     "data": {
      "image/png": "[encoded data removed]",
      "text/plain": [
       "<Figure size 640x480 with 1 Axes>"
      ]
     },
     "metadata": {},
     "output_type": "display_data"
    }
   ],
   "source": [
    "plt.plot(accs)\n",
    "plt.xticks(range(len(grid)), grid)\n",
    "plt.xlabel('Regularization parameter \\n (Low - strong regularization, High - weak regularization)')\n",
    "plt.ylabel('Crossvalidation accuracy')\n",
    "plt.ylim([0.986,1])"
   ]
  },
  {
   "cell_type": "markdown",
   "metadata": {},
   "source": [
    "### Let's train again, on the entire training set, with the chosen regularization parameter. We will test on the test set"
   ]
  },
  {
   "cell_type": "code",
   "execution_count": 41,
   "metadata": {},
   "outputs": [
    {
     "name": "stdout",
     "output_type": "stream",
     "text": [
      "Accuracy: 0.9912280701754386\n"
     ]
    }
   ],
   "source": [
    "clf = LogisticRegression(random_state=0, solver='lbfgs',C = 10).fit(X_train,Y_train)\n",
    "\n",
    "#predict on the test set\n",
    "print('Accuracy:',clf.score(X_test,Y_test))"
   ]
  },
  {
   "cell_type": "markdown",
   "metadata": {},
   "source": [
    "### What features characterize Frankenstein? BOW are interpretable!"
   ]
  },
  {
   "cell_type": "code",
   "execution_count": 42,
   "metadata": {},
   "outputs": [
    {
     "name": "stdout",
     "output_type": "stream",
     "text": [
      "['ice' 'although' 'by' 'several' 'appeared' 'should' 'misery' 'our' 'who'\n",
      " 'had' 'of' 'poor' 'but' 'justine' 'my' 'this' 'father' 'and' 'yet'\n",
      " 'which']\n"
     ]
    }
   ],
   "source": [
    "coefs=clf.coef_[0]\n",
    "top_three = np.argpartition(coefs, -20)[-20:]\n",
    "\n",
    "print(np.array(vectorizer.get_feature_names_out())[top_three])"
   ]
  },
  {
   "cell_type": "markdown",
   "metadata": {},
   "source": [
    "### We can perfectly predict paragraphs from Frankenstein! We saw issues of high dimensionality when using bag of words (more features than samples) and how regularization helps."
   ]
  },
  {
   "cell_type": "markdown",
   "metadata": {},
   "source": [
    "### Alternative text representation: word emdeddings, pretrained on intergraded in Spacy (300-dimensional word vectors trained on Common Crawl with GloVe.) Depending on the application, might be suitable or not"
   ]
  },
  {
   "cell_type": "code",
   "execution_count": 43,
   "metadata": {},
   "outputs": [
    {
     "name": "stdout",
     "output_type": "stream",
     "text": [
      "I am already far north of London, and as I walk in the streets of Petersburgh, I feel a cold northern breeze play upon my cheeks, which braces my nerves and fills me with delight. \n",
      "\n",
      "Embedding representation: [0.20092034, -0.076974384, -0.23990451, -0.042965, 0.06303602, 0.0937523, 0.36673704, -0.08795012, 0.37766436, -0.11488456] ...\n"
     ]
    }
   ],
   "source": [
    "print(example,'\\n')\n",
    "print('Embedding representation:',list((nlp(example).vector)[0:10]),'...')"
   ]
  },
  {
   "cell_type": "markdown",
   "metadata": {},
   "source": [
    "# Task 3: Topic detection"
   ]
  },
  {
   "cell_type": "code",
   "execution_count": 44,
   "metadata": {},
   "outputs": [
    {
     "name": "stdout",
     "output_type": "stream",
     "text": [
      "DRACULA.txt\n",
      "Number of sentences: 9303\n",
      "Number of chunks: 187 \n",
      "\n",
      "Frankenstein.txt\n",
      "Number of sentences: 3378\n",
      "Number of chunks: 68 \n",
      "\n",
      "Moby_Dick.txt\n",
      "Number of sentences: 9609\n",
      "Number of chunks: 193 \n",
      "\n",
      "PRIDE_AND_PREJUDICE.txt\n",
      "Number of sentences: 6055\n",
      "Number of chunks: 122 \n",
      "\n"
     ]
    }
   ],
   "source": [
    "# Get the chunks again (into smaller chunks)\n",
    "book_id = {f:n for n,f in enumerate(our_books.fileids())} # dictionary of books\n",
    "chunks = list()\n",
    "chunk_class = list() # this list contains the original book of the chunk, for evaluation\n",
    "\n",
    "limit = 60 # how many chunks total\n",
    "size = 50 # how many sentences per chunk/page\n",
    "\n",
    "for f in our_books.fileids():\n",
    "    sentences = our_books.sents(f)\n",
    "    print(f)\n",
    "    print('Number of sentences:',len(sentences))\n",
    "    \n",
    "    # create chunks\n",
    "    chunks_of_sents = [x for x in get_chunks(sentences,size)] # this is a list of lists of sentences, which are a list of tokens\n",
    "    chs = list()\n",
    "    \n",
    "    # regroup so to have a list of chunks which are strings\n",
    "    for c in chunks_of_sents:\n",
    "        grouped_chunk = list()\n",
    "        for s in c:\n",
    "            grouped_chunk.extend(s)\n",
    "        chs.append(\" \".join(grouped_chunk))\n",
    "    print(\"Number of chunks:\",len(chs),'\\n')\n",
    "    \n",
    "    # filter to the limit, to have the same number of chunks per book\n",
    "    chunks.extend(chs[:limit])\n",
    "    chunk_class.extend([book_id[f] for _ in range(len(chs[:limit]))])"
   ]
  },
  {
   "cell_type": "code",
   "execution_count": 45,
   "metadata": {},
   "outputs": [],
   "source": [
    "STOPWORDS = spacy.lang.en.stop_words.STOP_WORDS\n",
    "\n",
    "processed_docs = list()\n",
    "for doc in nlp.pipe(chunks, n_process=5, batch_size=10):\n",
    "\n",
    "    # Process document using Spacy NLP pipeline.\n",
    "    ents = doc.ents  # Named entities\n",
    "\n",
    "    # Keep only words (no numbers, no punctuation).\n",
    "    # Lemmatize tokens, remove punctuation and remove stopwords.\n",
    "    doc = [token.lemma_ for token in doc if token.is_alpha and not token.is_stop]\n",
    "\n",
    "    # Remove common words from a stopword list and keep only words of length 3 or more.\n",
    "    doc = [token for token in doc if token not in STOPWORDS and len(token) > 2]\n",
    "\n",
    "    # Add named entities, but only if they are a compound of more than word.\n",
    "    doc.extend([str(entity) for entity in ents if len(entity) > 1])\n",
    "\n",
    "    processed_docs.append(doc)\n",
    "docs = processed_docs\n",
    "del processed_docs"
   ]
  },
  {
   "cell_type": "code",
   "execution_count": 46,
   "metadata": {},
   "outputs": [],
   "source": [
    "# Add bigrams too\n",
    "from gensim.models.phrases import Phrases\n",
    "\n",
    "# Add bigrams to docs (only ones that appear 15 times or more).\n",
    "bigram = Phrases(docs, min_count=15)\n",
    "\n",
    "for idx in range(len(docs)):\n",
    "    for token in bigram[docs[idx]]:\n",
    "        if '_' in token:\n",
    "            # Token is a bigram, add to document.\n",
    "            docs[idx].append(token)"
   ]
  },
  {
   "cell_type": "code",
   "execution_count": 47,
   "metadata": {},
   "outputs": [
    {
     "name": "stdout",
     "output_type": "stream",
     "text": [
      "Number of unique tokens: 3087\n",
      "Number of chunks: 240\n"
     ]
    }
   ],
   "source": [
    "# Create a dictionary representation of the documents, and filter out frequent and rare words.\n",
    "from gensim.corpora import Dictionary\n",
    "dictionary = Dictionary(docs)\n",
    "\n",
    "# Remove rare and common tokens.\n",
    "# Filter out words that occur too frequently or too rarely.\n",
    "max_freq = 0.5\n",
    "min_wordcount = 5\n",
    "dictionary.filter_extremes(no_below=min_wordcount, no_above=max_freq)\n",
    "\n",
    "# Bag-of-words representation of the documents.\n",
    "corpus = [dictionary.doc2bow(doc) for doc in docs]\n",
    "#MmCorpus.serialize(\"models/corpus.mm\", corpus)\n",
    "\n",
    "print('Number of unique tokens: %d' % len(dictionary))\n",
    "print('Number of chunks: %d' % len(corpus))"
   ]
  },
  {
   "cell_type": "code",
   "execution_count": 48,
   "metadata": {},
   "outputs": [],
   "source": [
    "# models\n",
    "from gensim.models import LdaMulticore\n",
    "params = {'passes': 10, 'random_state': seed}\n",
    "base_models = dict()\n",
    "model = LdaMulticore(corpus=corpus, num_topics=4, id2word=dictionary, workers=6,\n",
    "                passes=params['passes'], random_state=params['random_state'])"
   ]
  },
  {
   "cell_type": "code",
   "execution_count": 49,
   "metadata": {},
   "outputs": [
    {
     "data": {
      "text/plain": [
       "[(0,\n",
       "  '0.008*\"father\" + 0.006*\"life\" + 0.005*\"Elizabeth\" + 0.005*\"feeling\" + 0.004*\"love\"'),\n",
       " (1,\n",
       "  '0.007*\"room\" + 0.006*\"door\" + 0.006*\"sleep\" + 0.006*\"Lucy\" + 0.005*\"old\"'),\n",
       " (2,\n",
       "  '0.017*\"whale\" + 0.011*\"ship\" + 0.010*\"sea\" + 0.008*\"Queequeg\" + 0.008*\"old\"'),\n",
       " (3,\n",
       "  '0.016*\"Elizabeth\" + 0.012*\"Darcy\" + 0.011*\"Bingley\" + 0.010*\"Miss\" + 0.009*\"Mrs\"')]"
      ]
     },
     "execution_count": 49,
     "metadata": {},
     "output_type": "execute_result"
    }
   ],
   "source": [
    "model.show_topics(num_words=5)"
   ]
  },
  {
   "cell_type": "code",
   "execution_count": 50,
   "metadata": {},
   "outputs": [
    {
     "data": {
      "text/plain": [
       "[('room', 0.006917667),\n",
       " ('door', 0.0064798635),\n",
       " ('sleep', 0.005997262),\n",
       " ('Lucy', 0.005515726),\n",
       " ('old', 0.004992797),\n",
       " ('Count', 0.004801029),\n",
       " ('window', 0.004471595),\n",
       " ('dear', 0.004363027),\n",
       " ('fear', 0.0042384365),\n",
       " ('open', 0.003989996),\n",
       " ('ask', 0.0039044884),\n",
       " ('light', 0.0036928426),\n",
       " ('try', 0.0035804277),\n",
       " ('sit', 0.0035351783),\n",
       " ('run', 0.0035098614),\n",
       " ('write', 0.0034748332),\n",
       " ('fall', 0.003428881),\n",
       " ('lie', 0.0034027954),\n",
       " ('bed', 0.00329844),\n",
       " ('pass', 0.0032581564)]"
      ]
     },
     "execution_count": 50,
     "metadata": {},
     "output_type": "execute_result"
    }
   ],
   "source": [
    "model.show_topic(1,20)"
   ]
  },
  {
   "cell_type": "code",
   "execution_count": 51,
   "metadata": {},
   "outputs": [
    {
     "data": {
      "text/plain": [
       "[(1, 0.9972272)]"
      ]
     },
     "execution_count": 51,
     "metadata": {},
     "output_type": "execute_result"
    }
   ],
   "source": [
    "sorted(model[corpus[0]],key=lambda x:x[1],reverse=True)"
   ]
  },
  {
   "cell_type": "code",
   "execution_count": 58,
   "metadata": {},
   "outputs": [
    {
     "data": {
      "text/html": [
       "\n",
       "<link rel=\"stylesheet\" type=\"text/css\" href=\"https://cdn.jsdelivr.net/gh/bmabey/pyLDAvis@3.4.0/pyLDAvis/js/ldavis.v1.0.0.css\">\n",
       "\n",
       "\n",
       "<div id=\"ldavis_el1228015961802732326394267984\" style=\"background-color:white;\"></div>\n",
       "<script type=\"text/javascript\">\n",
       "\n",
       "var ldavis_el1228015961802732326394267984_data = {\"mdsDat\": {\"x\": [0.15975142942168377, -0.14554541173722343, 0.04571845164495269, -0.059924469329412984], \"y\": [-0.07474565676322209, -0.07465192843191518, 0.09492402112522169, 0.054473564069915575], \"topics\": [1, 2, 3, 4], \"cluster\": [1, 1, 1, 1], \"Freq\": [26.733615190560588, 25.362065911154946, 24.12165004883775, 23.78266884944671]}, \"tinfo\": {\"Term\": [\"whale\", \"Darcy\", \"Elizabeth\", \"Bingley\", \"ship\", \"Miss\", \"Bennet\", \"Queequeg\", \"Collins\", \"Mrs\", \"Jane\", \"sea\", \"Captain\", \"Ahab\", \"sister\", \"Lucy\", \"Count\", \"Lady\", \"father\", \"Mrs_Bennet\", \"Catherine\", \"old\", \"Wickham\", \"Bildad\", \"Charlotte\", \"Lady_Catherine\", \"Peleg\", \"sleep\", \"harpooneer\", \"Miss_Bingley\", \"Darcy\", \"Bingley\", \"Collins\", \"Jane\", \"Bennet\", \"Wickham\", \"Charlotte\", \"Mrs_Bennet\", \"Catherine\", \"Lady_Catherine\", \"Miss_Bingley\", \"Lucas\", \"Lady Catherine\", \"Netherfield\", \"Longbourn\", \"Lady\", \"Lizzy\", \"Lydia\", \"Miss Bingley\", \"Miss_Bennet\", \"Hurst\", \"Bourgh\", \"Meryton\", \"Colonel\", \"Fitzwilliam\", \"Hertfordshire\", \"Miss_Lucas\", \"Colonel_Fitzwilliam\", \"Miss\", \"Rosings\", \"Sir_William\", \"Mrs\", \"dance\", \"sister\", \"Elizabeth\", \"lady\", \"daughter\", \"young_lady\", \"young\", \"family\", \"wish\", \"gentleman\", \"hope\", \"manner\", \"reply\", \"attention\", \"dear\", \"room\", \"believe\", \"walk\", \"girl\", \"father\", \"mean\", \"whale\", \"Ahab\", \"Bildad\", \"Peleg\", \"Whale\", \"Queequeg\", \"mast\", \"Nantucket\", \"Pequod\", \"ship\", \"Stubb\", \"Captain_Ahab\", \"whaling\", \"Flask\", \"leg\", \"whaleman\", \"Captain_Peleg\", \"oil\", \"pipe\", \"Starbuck\", \"harpooneer\", \"harpoon\", \"mast_head\", \"whale_ship\", \"shipmate\", \"Greenland\", \"captain\", \"Cape\", \"sperm\", \"Jonah\", \"Captain\", \"thou\", \"crew\", \"deck\", \"sea\", \"mate\", \"sailor\", \"sail\", \"cabin\", \"voyage\", \"head\", \"old\", \"stand\", \"sort\", \"round\", \"God\", \"world\", \"water\", \"chapter\", \"boat\", \"right\", \"small\", \"foot\", \"Justine\", \"Safie\", \"Ingolstadt\", \"Victor\", \"Ernest\", \"Geneva\", \"Felix\", \"undertaking\", \"Clerval\", \"victim\", \"Frankenstein\", \"remorse\", \"enterprise\", \"government\", \"unfortunate\", \"protector\", \"murderer\", \"dearest\", \"innocence\", \"ardently\", \"union\", \"sympathize\", \"crime\", \"accent\", \"ardent\", \"shed\", \"Arabian\", \"disaster\", \"celestial\", \"execute\", \"torture\", \"enthusiasm\", \"Henry\", \"creator\", \"forever\", \"tale\", \"grief\", \"misery\", \"murder\", \"despair\", \"weep\", \"misfortune\", \"science\", \"father\", \"human\", \"possess\", \"endeavour\", \"pursue\", \"miserable\", \"death\", \"month\", \"tear\", \"life\", \"feeling\", \"appear\", \"desire\", \"creature\", \"child\", \"discover\", \"love\", \"remain\", \"return\", \"mind\", \"countenance\", \"spirit\", \"heart\", \"Elizabeth\", \"dear\", \"hope\", \"pass\", \"enter\", \"nature\", \"year\", \"word\", \"believe\", \"wish\", \"Count\", \"Lucy\", \"Jonathan\", \"Dracula\", \"valley\", \"Helsing\", \"Van_Helsing\", \"diary\", \"later\", \"Van Helsing\", \"Hawkins\", \"Diary\", \"Renfield\", \"key\", \"driver\", \"courtyard\", \"Westenra\", \"Bistritz\", \"Pass\", \"abbey\", \"wolf\", \"glacier\", \"Van\", \"Arthur\", \"Mina\", \"Slovaks\", \"Transylvania\", \"Last night\", \"Seward ' s\", \"Harker\", \"asleep\", \"castle\", \"patient\", \"Seward\", \"creep\", \"window\", \"harbour\", \"door\", \"outside\", \"lock\", \"sleep\", \"mountain\", \"whilst\", \"awake\", \"room\", \"fall\", \"run\", \"fear\", \"lie\", \"open\", \"ask\", \"bed\", \"try\", \"close\", \"light\", \"write\", \"sound\", \"sit\", \"old\", \"dear\", \"work\", \"wind\", \"face\", \"pass\", \"letter\", \"want\", \"morning\", \"mind\", \"heart\", \"life\", \"house\"], \"Freq\": [316.0, 232.0, 394.0, 208.0, 206.0, 195.0, 170.0, 157.0, 146.0, 194.0, 143.0, 215.0, 120.0, 104.0, 180.0, 99.0, 85.0, 90.0, 220.0, 79.0, 79.0, 278.0, 77.0, 73.0, 73.0, 72.0, 68.0, 157.0, 73.0, 69.0, 230.6966963724597, 206.7334181065256, 145.6030313597018, 142.74443536939904, 169.39002847776055, 76.75557308909337, 72.9382521125877, 78.61553988064425, 78.60389034430885, 71.92580274123797, 68.12673422185782, 58.5769767543078, 60.44799240297679, 49.0144867075912, 40.39747029949602, 88.20609347836884, 36.575974147370154, 36.56892299246714, 34.659202214383775, 34.653170393910116, 29.888926412641297, 30.81635464644317, 29.874742192032915, 29.871756998346967, 28.917841996482505, 24.144815356960823, 23.19049762698477, 23.183346358878875, 188.80916846486298, 21.27925694845765, 38.47097373402967, 178.9790530738411, 60.50085672469882, 150.84254684455428, 303.4003604976933, 96.92645401543943, 69.37272039193138, 34.097751445518874, 117.71249416869672, 74.657218559079, 97.7654390603949, 44.82953184770088, 85.43205673970068, 80.20845015290622, 66.40665287833443, 57.14386080564652, 86.77196274587834, 88.37312780677797, 67.42302941759723, 67.06583006031299, 62.004516076591145, 63.56873481502705, 62.506975140657595, 314.7371552454842, 103.23665467228642, 72.38851615615437, 67.70278007023387, 61.14152521051601, 155.41790616635336, 51.75201604948231, 49.863727190947735, 44.23410570384793, 202.69745690615002, 41.44231824018428, 37.70304056778365, 36.733800633926315, 36.72808906458645, 35.770539931766415, 34.84952023505317, 28.334126298311418, 29.235813865392075, 28.301221096868897, 26.45195050265308, 70.93374533992564, 34.566510463265644, 23.649849403953187, 20.837501585806457, 30.812707790831773, 22.61967742953435, 42.48771674904129, 19.87069219884129, 18.026756503954072, 57.68590488012285, 114.41057379430681, 69.05391374846349, 31.231905897007362, 62.44173828378439, 180.38702231801295, 60.46757729695105, 42.68970253491, 70.82743157835078, 44.34805215974848, 56.7135868291534, 112.57684488536954, 149.8403924962847, 77.24816801747659, 76.23830384515506, 66.03502772580187, 63.721773068999454, 69.86123090739237, 54.36139593359342, 53.71184846591578, 46.48859552175825, 49.42426445402284, 47.50092909518515, 46.77353505280119, 55.14323765902319, 24.812489355664226, 16.542304895364605, 24.22978148124412, 13.522996221117452, 35.322124430525264, 46.745627873446004, 10.483988028459834, 51.26714107736199, 16.92131660833735, 15.00749058502443, 11.246704602139815, 9.356343291001606, 7.4695962784577, 12.104188475031549, 13.875019255123599, 27.731980361746498, 7.403855256255628, 18.496664235517404, 11.018984287241434, 15.58636551682848, 8.213410409233738, 23.691925399717924, 10.019143652732255, 7.280361930627445, 8.184489861492793, 12.598952180815397, 5.4037413184336645, 5.381651600001376, 5.37652886295654, 16.88317195177266, 10.713044843434837, 25.552725628516253, 16.792010739173172, 28.422714806875824, 29.161249146450558, 26.08180515423976, 47.248398261716524, 37.93518532687419, 36.75975917193014, 25.174001334914827, 31.60575705848207, 28.00532644884583, 136.46649577745595, 49.84933416658692, 38.50256348382559, 48.751416804104835, 27.58186738309453, 45.18941211141807, 65.57082476835097, 43.48083123466436, 41.42014931007513, 100.13263873593328, 81.66645327174845, 70.70941093851894, 51.59290219281187, 52.38747715080675, 49.69044873812328, 41.721968391894364, 73.8605537459001, 55.27510977257412, 65.0124674736679, 67.5043359391058, 41.69901590209925, 49.14736162403913, 60.45277265926805, 86.6385784600231, 69.12922029493221, 60.329317827305665, 59.518959439834504, 51.55007670648574, 44.6109026128147, 47.88728225226039, 49.65618834906238, 46.75129003506094, 45.25657380651265, 83.47679192303256, 95.9034216373854, 33.10876432990352, 14.742949687716, 18.12048829325288, 23.091830412368495, 23.079938561708502, 12.83263470111571, 21.344847717420304, 21.31384996405739, 14.386405691047129, 10.118036913737686, 10.11831826986394, 30.368744295995427, 26.822687539846296, 10.055263123338877, 18.339025085849652, 8.345325820359454, 8.30719751092633, 7.463224266971325, 19.885228810471727, 7.451326343876954, 23.902965955343575, 37.166933767019344, 31.284556462805543, 6.5916442182182, 7.4014660912225, 7.394068348039588, 7.37777044020102, 6.5616479104917165, 25.125747776620145, 30.759742273261583, 21.865641955404985, 16.136257611239667, 9.78623909923796, 77.74883460094644, 21.664925733567458, 112.66714591721087, 17.645885039448796, 28.820180418544492, 104.2760212907245, 44.495811495777055, 29.675588056436226, 31.01795635209447, 120.27935533754017, 59.618885454930194, 61.02691295938994, 73.69484502282856, 59.16532723454091, 69.37514190941903, 67.88839946224171, 57.35087169705652, 62.253868567230064, 53.349554414747026, 64.208455648747, 60.41786803256696, 44.644440399651415, 61.467103727565, 86.81111706137962, 75.86113335997567, 50.157927436030285, 42.76265775805594, 49.74689244945633, 56.65044877768976, 49.89838754235786, 47.45726892177056, 48.28089343811963, 50.21048233144067, 48.46411497650961, 48.81291155898255, 46.572952447942484], \"Total\": [316.0, 232.0, 394.0, 208.0, 206.0, 195.0, 170.0, 157.0, 146.0, 194.0, 143.0, 215.0, 120.0, 104.0, 180.0, 99.0, 85.0, 90.0, 220.0, 79.0, 79.0, 278.0, 77.0, 73.0, 73.0, 72.0, 68.0, 157.0, 73.0, 69.0, 232.116152607392, 208.14274887153198, 146.75520247395966, 143.87872435099436, 170.73995486165606, 77.68925679491429, 73.85638211053781, 79.6163970724353, 79.61461148972184, 72.89915357944466, 69.06108780083741, 59.46937675254249, 61.3894369801866, 49.87702339773224, 41.24481236061129, 90.11814263250957, 37.40824917704403, 37.40830724370704, 35.48889953640402, 35.48995647203585, 30.69329706118504, 31.654546315585968, 30.694141291695736, 30.69312135511056, 29.734497759382638, 24.93912950842901, 23.97927804612127, 23.97922140290271, 195.42268945417132, 22.060908983001173, 40.264714367039154, 194.4652590328607, 66.12773769828019, 180.59120729297575, 394.617691886951, 126.70529147202487, 89.12973807007012, 36.376998301662915, 220.59512383756928, 116.02518714614905, 189.2041303375246, 54.56161076251752, 174.8541230582804, 156.10400312613282, 111.64599752778031, 87.68170325016966, 238.10153022492386, 250.9267847357258, 136.71718749146575, 134.51939573032976, 111.52650798817689, 220.25536806607062, 160.09511587006014, 316.65827652372565, 104.31343862620665, 73.30106849945886, 68.60328850966214, 62.0272030369378, 157.825906309909, 52.63348680082862, 50.75304767166692, 45.12007959117859, 206.82649232303612, 42.2997516072891, 38.54133001755825, 37.59987497576397, 37.60609337063104, 36.66124288537209, 35.720334866109816, 29.145091971484938, 30.08488589916953, 29.143941320583593, 27.267001417528416, 73.26594577852872, 35.714712839391254, 24.44792563153965, 21.628563243978988, 31.990827849078812, 23.511662124661257, 44.227917271913995, 20.688277886003405, 18.809307441659726, 60.309097106168416, 120.46490719500207, 73.58640833001944, 32.96581881579974, 68.09202746611567, 215.40482450757432, 66.96020563168281, 46.294904739427835, 84.97950170103506, 49.246982498795134, 71.66642154551275, 181.47656826241058, 278.0693913085262, 139.3751323707212, 145.17007460312792, 119.66350787552935, 116.47624235839633, 157.62994722170438, 93.97548368606188, 118.69639737961073, 69.43579792573485, 103.38737808274345, 92.76109672133384, 94.6052175923023, 56.75996447547078, 25.777669513712095, 17.495688101227227, 25.708751215541692, 14.397680305676555, 37.97962147010672, 50.28737046891912, 11.300338864826887, 55.38946838791253, 18.452086815839028, 16.399651914251717, 12.309818839617247, 10.253370011000563, 8.204418402913953, 13.318013205955278, 15.354736440801412, 30.696869285461226, 8.196308820002463, 20.488293621710856, 12.285397085293566, 17.429218126021958, 9.205255477959925, 26.55848993525829, 11.24425796466988, 8.182132809543672, 9.202126221798835, 14.28863771866929, 6.133478797096127, 6.131467554436968, 6.130345635173264, 19.385907499444762, 12.258563480185877, 29.568824724999065, 19.351938425189715, 33.55507771168472, 34.55630164241907, 31.517989297039872, 59.70829629620748, 47.45699738860015, 47.34754322261917, 31.326692007053648, 40.594896243460916, 35.396341437995034, 220.25536806607062, 71.11266769993406, 52.50393533811594, 70.53773435633798, 35.44281534260896, 65.83622752254253, 106.19559260067462, 66.91631909588928, 64.60559964366828, 218.09881218938494, 166.70221633448, 136.2475772642843, 88.45243533154581, 92.04423478375969, 86.15158284702007, 66.65883973003815, 185.3408945241176, 116.49876623450788, 159.63843529300274, 172.5734709376985, 71.69978697413764, 102.11442601302505, 162.5418316675619, 394.617691886951, 238.10153022492386, 174.8541230582804, 181.45191807179947, 124.71066947784463, 88.60734252559928, 129.56646187652265, 170.45356836134286, 136.71718749146575, 189.2041303375246, 85.13274573246716, 99.76816557989262, 34.817015002224124, 15.591595054572567, 19.268448465449662, 24.74901002581652, 24.749064326490004, 13.76697580944293, 22.925946906506702, 22.919883643802326, 15.626669576323835, 11.018179158333368, 11.018750448238267, 33.10897014150203, 29.441224325023875, 11.03980718490596, 20.184939733087642, 9.196634531044019, 9.20117387245148, 8.274770532233475, 22.058695838741656, 8.27742640256689, 26.60456354410406, 41.3677475323356, 34.875293783904716, 7.360202134614105, 8.28499056807753, 8.279164750116744, 8.275893488919268, 7.36138987198651, 28.45816791917417, 34.91298224355447, 24.79970580063244, 18.365710509892523, 11.069088287929144, 99.94172522948207, 25.728340413182202, 160.7240754068456, 21.161157938607314, 36.87450773148147, 157.89681496775947, 63.23550654032334, 39.29086060989434, 42.223345112517904, 250.9267847357258, 101.67431227178339, 112.5286849575786, 147.75000077126126, 108.85471811283895, 139.20776390395653, 136.77725141370837, 106.89215252683374, 122.28447973161613, 98.69181944951526, 139.56456829472978, 126.79693492880301, 77.10022409908458, 146.32345273025987, 278.0693913085262, 238.10153022492386, 112.61132797463614, 83.64441218702002, 123.53508598359261, 181.45191807179947, 141.17179802034698, 125.54505295308442, 143.44007509907195, 172.5734709376985, 162.5418316675619, 218.09881218938494, 162.74705943783312], \"Category\": [\"Default\", \"Default\", \"Default\", \"Default\", \"Default\", \"Default\", \"Default\", \"Default\", \"Default\", \"Default\", \"Default\", \"Default\", \"Default\", \"Default\", \"Default\", \"Default\", \"Default\", \"Default\", \"Default\", \"Default\", \"Default\", \"Default\", \"Default\", \"Default\", \"Default\", \"Default\", \"Default\", \"Default\", \"Default\", \"Default\", \"Topic1\", \"Topic1\", \"Topic1\", \"Topic1\", \"Topic1\", \"Topic1\", \"Topic1\", \"Topic1\", \"Topic1\", \"Topic1\", \"Topic1\", \"Topic1\", \"Topic1\", \"Topic1\", \"Topic1\", \"Topic1\", \"Topic1\", \"Topic1\", \"Topic1\", \"Topic1\", \"Topic1\", \"Topic1\", \"Topic1\", \"Topic1\", \"Topic1\", \"Topic1\", \"Topic1\", \"Topic1\", \"Topic1\", \"Topic1\", \"Topic1\", \"Topic1\", \"Topic1\", \"Topic1\", \"Topic1\", \"Topic1\", \"Topic1\", \"Topic1\", \"Topic1\", \"Topic1\", \"Topic1\", \"Topic1\", \"Topic1\", \"Topic1\", \"Topic1\", \"Topic1\", \"Topic1\", \"Topic1\", \"Topic1\", \"Topic1\", \"Topic1\", \"Topic1\", \"Topic1\", \"Topic2\", \"Topic2\", \"Topic2\", \"Topic2\", \"Topic2\", \"Topic2\", \"Topic2\", \"Topic2\", \"Topic2\", \"Topic2\", \"Topic2\", \"Topic2\", \"Topic2\", \"Topic2\", \"Topic2\", \"Topic2\", \"Topic2\", \"Topic2\", \"Topic2\", \"Topic2\", \"Topic2\", \"Topic2\", \"Topic2\", \"Topic2\", \"Topic2\", \"Topic2\", \"Topic2\", \"Topic2\", \"Topic2\", \"Topic2\", \"Topic2\", \"Topic2\", \"Topic2\", \"Topic2\", \"Topic2\", \"Topic2\", \"Topic2\", \"Topic2\", \"Topic2\", \"Topic2\", \"Topic2\", \"Topic2\", \"Topic2\", \"Topic2\", \"Topic2\", \"Topic2\", \"Topic2\", \"Topic2\", \"Topic2\", \"Topic2\", \"Topic2\", \"Topic2\", \"Topic2\", \"Topic3\", \"Topic3\", \"Topic3\", \"Topic3\", \"Topic3\", \"Topic3\", \"Topic3\", \"Topic3\", \"Topic3\", \"Topic3\", \"Topic3\", \"Topic3\", \"Topic3\", \"Topic3\", \"Topic3\", \"Topic3\", \"Topic3\", \"Topic3\", \"Topic3\", \"Topic3\", \"Topic3\", \"Topic3\", \"Topic3\", \"Topic3\", \"Topic3\", \"Topic3\", \"Topic3\", \"Topic3\", \"Topic3\", \"Topic3\", \"Topic3\", \"Topic3\", \"Topic3\", \"Topic3\", \"Topic3\", \"Topic3\", \"Topic3\", \"Topic3\", \"Topic3\", \"Topic3\", \"Topic3\", \"Topic3\", \"Topic3\", \"Topic3\", \"Topic3\", \"Topic3\", \"Topic3\", \"Topic3\", \"Topic3\", \"Topic3\", \"Topic3\", \"Topic3\", \"Topic3\", \"Topic3\", \"Topic3\", \"Topic3\", \"Topic3\", \"Topic3\", \"Topic3\", \"Topic3\", \"Topic3\", \"Topic3\", \"Topic3\", \"Topic3\", \"Topic3\", \"Topic3\", \"Topic3\", \"Topic3\", \"Topic3\", \"Topic3\", \"Topic3\", \"Topic3\", \"Topic3\", \"Topic3\", \"Topic3\", \"Topic3\", \"Topic4\", \"Topic4\", \"Topic4\", \"Topic4\", \"Topic4\", \"Topic4\", \"Topic4\", \"Topic4\", \"Topic4\", \"Topic4\", \"Topic4\", \"Topic4\", \"Topic4\", \"Topic4\", \"Topic4\", \"Topic4\", \"Topic4\", \"Topic4\", \"Topic4\", \"Topic4\", \"Topic4\", \"Topic4\", \"Topic4\", \"Topic4\", \"Topic4\", \"Topic4\", \"Topic4\", \"Topic4\", \"Topic4\", \"Topic4\", \"Topic4\", \"Topic4\", \"Topic4\", \"Topic4\", \"Topic4\", \"Topic4\", \"Topic4\", \"Topic4\", \"Topic4\", \"Topic4\", \"Topic4\", \"Topic4\", \"Topic4\", \"Topic4\", \"Topic4\", \"Topic4\", \"Topic4\", \"Topic4\", \"Topic4\", \"Topic4\", \"Topic4\", \"Topic4\", \"Topic4\", \"Topic4\", \"Topic4\", \"Topic4\", \"Topic4\", \"Topic4\", \"Topic4\", \"Topic4\", \"Topic4\", \"Topic4\", \"Topic4\", \"Topic4\", \"Topic4\", \"Topic4\", \"Topic4\", \"Topic4\", \"Topic4\", \"Topic4\", \"Topic4\"], \"logprob\": [30.0, 29.0, 28.0, 27.0, 26.0, 25.0, 24.0, 23.0, 22.0, 21.0, 20.0, 19.0, 18.0, 17.0, 16.0, 15.0, 14.0, 13.0, 12.0, 11.0, 10.0, 9.0, 8.0, 7.0, 6.0, 5.0, 4.0, 3.0, 2.0, 1.0, -4.4394, -4.549, -4.8996, -4.9194, -4.7483, -5.5398, -5.5908, -5.5159, -5.516, -5.6048, -5.6591, -5.8101, -5.7787, -5.9883, -6.1817, -5.4008, -6.2811, -6.2813, -6.3349, -6.3351, -6.483, -6.4524, -6.4834, -6.4835, -6.516, -6.6964, -6.7367, -6.737, -4.6397, -6.8227, -6.2306, -4.6932, -5.7778, -4.8642, -4.1654, -5.3065, -5.641, -6.3512, -5.1122, -5.5676, -5.2979, -6.0776, -5.4327, -5.4958, -5.6847, -5.8349, -5.4172, -5.3989, -5.6695, -5.6748, -5.7533, -5.7283, -5.7452, -4.0761, -5.1908, -5.5457, -5.6127, -5.7146, -4.7817, -5.8813, -5.9185, -6.0383, -4.5161, -6.1035, -6.1981, -6.2241, -6.2242, -6.2507, -6.2768, -6.4837, -6.4524, -6.4849, -6.5525, -5.566, -6.2849, -6.6644, -6.791, -6.3999, -6.709, -6.0786, -6.8385, -6.9359, -5.7728, -5.088, -5.5929, -6.3864, -5.6936, -4.6327, -5.7257, -6.0738, -5.5675, -6.0357, -5.7898, -5.1042, -4.8182, -5.4808, -5.4939, -5.6376, -5.6733, -5.5813, -5.8321, -5.8442, -5.9886, -5.9273, -5.967, -5.9825, -5.7677, -6.5663, -6.9717, -6.5901, -7.1733, -6.2131, -5.9329, -7.4278, -5.8406, -6.9491, -7.0691, -7.3576, -7.5416, -7.7668, -7.2841, -7.1476, -6.4551, -7.7756, -6.8601, -7.378, -7.0312, -7.6719, -6.6125, -7.4731, -7.7925, -7.6754, -7.244, -8.0906, -8.0947, -8.0956, -6.9513, -7.4062, -6.5369, -6.9567, -6.4305, -6.4048, -6.5164, -5.9222, -6.1418, -6.1732, -6.5518, -6.3243, -6.4453, -4.8616, -5.8686, -6.1269, -5.8909, -6.4605, -5.9668, -5.5945, -6.0053, -6.0539, -5.1712, -5.375, -5.5191, -5.8343, -5.819, -5.8718, -6.0466, -5.4755, -5.7653, -5.6031, -5.5655, -6.0472, -5.8828, -5.6758, -5.3159, -5.5417, -5.6778, -5.6914, -5.8351, -5.9797, -5.9088, -5.8725, -5.9328, -5.9653, -5.3389, -5.2002, -6.2637, -7.0727, -6.8665, -6.624, -6.6245, -7.2115, -6.7027, -6.7041, -7.0972, -7.4492, -7.4491, -6.3501, -6.4742, -7.4554, -6.8545, -7.6418, -7.6464, -7.7535, -6.7735, -7.7551, -6.5895, -6.1481, -6.3204, -7.8777, -7.7618, -7.7628, -7.765, -7.8823, -6.5396, -6.3373, -6.6786, -6.9824, -7.4825, -5.41, -6.6878, -5.0391, -6.893, -6.4024, -5.1165, -5.9681, -6.3732, -6.3289, -4.9737, -5.6755, -5.6522, -5.4636, -5.6832, -5.524, -5.5456, -5.7143, -5.6323, -5.7866, -5.6014, -5.6622, -5.9648, -5.645, -5.2998, -5.4346, -5.8483, -6.0078, -5.8565, -5.7266, -5.8535, -5.9037, -5.8865, -5.8473, -5.8827, -5.8755, -5.9225], \"loglift\": [30.0, 29.0, 28.0, 27.0, 26.0, 25.0, 24.0, 23.0, 22.0, 21.0, 20.0, 19.0, 18.0, 17.0, 16.0, 15.0, 14.0, 13.0, 12.0, 11.0, 10.0, 9.0, 8.0, 7.0, 6.0, 5.0, 4.0, 3.0, 2.0, 1.0, 1.3131, 1.3125, 1.3114, 1.3113, 1.3113, 1.3072, 1.3067, 1.3066, 1.3065, 1.3058, 1.3056, 1.3041, 1.3038, 1.3018, 1.2985, 1.2978, 1.2967, 1.2966, 1.2956, 1.2954, 1.2927, 1.2924, 1.2922, 1.2921, 1.2914, 1.2869, 1.2858, 1.2855, 1.2848, 1.2832, 1.2737, 1.2363, 1.2303, 1.1392, 1.0564, 1.0513, 1.0686, 1.2545, 0.6912, 0.8783, 0.659, 1.1228, 0.603, 0.6534, 0.7997, 0.8911, 0.3098, 0.2757, 0.6123, 0.6232, 0.7322, 0.0766, 0.3788, 1.3658, 1.3615, 1.3594, 1.3587, 1.3575, 1.3565, 1.355, 1.3542, 1.3521, 1.3517, 1.3514, 1.3499, 1.3486, 1.3483, 1.3473, 1.3472, 1.3437, 1.3433, 1.3426, 1.3416, 1.3396, 1.3392, 1.3387, 1.3347, 1.3344, 1.3332, 1.3318, 1.3316, 1.3294, 1.3274, 1.3204, 1.3083, 1.3179, 1.2853, 1.1945, 1.2699, 1.2908, 1.1898, 1.2671, 1.1379, 0.8944, 0.7536, 0.7818, 0.7279, 0.7774, 0.7688, 0.5582, 0.8245, 0.579, 0.9707, 0.6339, 0.7026, 0.6675, 1.3932, 1.3839, 1.366, 1.3628, 1.3594, 1.3495, 1.349, 1.3471, 1.3447, 1.3355, 1.3333, 1.3317, 1.3305, 1.3282, 1.3265, 1.3207, 1.3205, 1.3204, 1.3198, 1.3133, 1.3103, 1.3081, 1.3078, 1.3067, 1.3053, 1.3049, 1.2962, 1.2954, 1.2916, 1.2909, 1.2838, 1.2873, 1.2761, 1.2802, 1.2561, 1.2523, 1.2327, 1.188, 1.1981, 1.1689, 1.2034, 1.1718, 1.1878, 0.9434, 1.0668, 1.1119, 1.0526, 1.1713, 1.0458, 0.9399, 0.9909, 0.9775, 0.6436, 0.7085, 0.7662, 0.883, 0.8585, 0.8718, 0.9535, 0.502, 0.6765, 0.5237, 0.4834, 0.8801, 0.6908, 0.433, -0.0941, 0.1853, 0.3579, 0.3074, 0.5386, 0.7358, 0.4267, 0.1887, 0.349, -0.0084, 1.4166, 1.3967, 1.3859, 1.3802, 1.3748, 1.3669, 1.3664, 1.3659, 1.3648, 1.3636, 1.3535, 1.351, 1.351, 1.3498, 1.3431, 1.3428, 1.3403, 1.3391, 1.334, 1.333, 1.3325, 1.3311, 1.3291, 1.3291, 1.3276, 1.3259, 1.3234, 1.3231, 1.3213, 1.3212, 1.3117, 1.3096, 1.3103, 1.3068, 1.313, 1.1851, 1.2643, 1.081, 1.2545, 1.1898, 1.0213, 1.0847, 1.1555, 1.1278, 0.7009, 0.9024, 0.8243, 0.7406, 0.8265, 0.7398, 0.7357, 0.8136, 0.7611, 0.8211, 0.6598, 0.6949, 0.8898, 0.5689, 0.2721, 0.2924, 0.6274, 0.7653, 0.5266, 0.2721, 0.3962, 0.4634, 0.3473, 0.2016, 0.2261, -0.0607, 0.185]}, \"token.table\": {\"Topic\": [2, 3, 4, 2, 3, 4, 1, 3, 2, 1, 3, 4, 1, 2, 1, 2, 3, 2, 2, 1, 1, 3, 4, 1, 3, 1, 1, 3, 4, 1, 3, 4, 4, 1, 2, 3, 4, 3, 3, 4, 1, 2, 3, 4, 3, 4, 1, 2, 3, 4, 2, 4, 3, 4, 2, 4, 2, 3, 4, 1, 1, 3, 1, 3, 2, 3, 2, 4, 3, 4, 1, 4, 1, 1, 4, 1, 1, 1, 2, 4, 1, 1, 2, 3, 4, 1, 2, 3, 4, 1, 1, 1, 1, 1, 2, 3, 4, 1, 2, 1, 4, 2, 2, 2, 4, 4, 1, 3, 2, 4, 4, 1, 2, 4, 2, 2, 4, 2, 4, 2, 4, 2, 4, 3, 4, 2, 4, 2, 1, 4, 3, 4, 1, 2, 3, 4, 3, 3, 4, 1, 2, 3, 4, 2, 4, 1, 2, 3, 4, 1, 2, 3, 4, 1, 2, 3, 4, 1, 2, 3, 4, 2, 3, 4, 2, 3, 2, 3, 4, 2, 3, 4, 3, 1, 2, 3, 4, 1, 2, 3, 4, 1, 2, 3, 4, 1, 2, 3, 4, 4, 3, 4, 1, 2, 3, 4, 3, 4, 2, 3, 3, 4, 1, 2, 3, 4, 1, 2, 3, 4, 1, 2, 3, 4, 3, 1, 2, 3, 4, 2, 3, 1, 2, 3, 4, 1, 2, 3, 4, 4, 3, 1, 2, 3, 4, 1, 2, 3, 4, 2, 3, 4, 1, 3, 4, 1, 2, 3, 4, 3, 2, 3, 3, 1, 2, 3, 4, 1, 2, 3, 4, 1, 2, 3, 4, 1, 2, 3, 4, 1, 2, 3, 4, 1, 2, 3, 4, 1, 2, 3, 4, 1, 3, 4, 1, 2, 3, 4, 1, 2, 3, 4, 4, 3, 1, 2, 3, 4, 2, 4, 2, 4, 2, 4, 1, 2, 3, 4, 1, 2, 3, 4, 1, 2, 3, 4, 1, 2, 3, 4, 1, 2, 3, 4, 2, 3, 4, 2, 3, 4, 1, 2, 3, 4, 2, 4, 2, 1, 2, 3, 4, 1, 2, 3, 4, 1, 2, 3, 4, 1, 2, 3, 4, 2, 3, 4, 1, 2, 3, 4, 1, 2, 3, 4, 2, 2, 2, 3, 4, 1, 2, 3, 4, 1, 2, 3, 4, 1, 2, 3, 4, 1, 2, 3, 4, 1, 3, 4, 1, 2, 3, 4, 1, 2, 3, 4, 1, 2, 3, 4, 2, 3, 4, 2, 3, 4, 1, 2, 3, 4, 2, 1, 2, 3, 4, 1, 2, 3, 4, 2, 3, 4, 1, 2, 3, 4, 1, 2, 4, 2, 1, 2, 3, 4, 3, 4, 1, 2, 3, 4, 1, 2, 3, 4, 3, 1, 2, 3, 4, 1, 2, 3, 4, 1, 2, 3, 4, 1, 2, 3, 4, 1, 2, 3, 4, 1, 2, 3, 4, 2, 3, 4, 2, 3, 1, 2, 3, 4, 2, 3, 4, 3, 2, 3, 4, 2, 3, 1, 2, 3, 4, 1, 2, 3, 4, 1, 2, 3, 4, 1, 2, 3, 4, 1, 2, 3, 4, 1, 2, 3, 4, 2, 1, 2, 3, 4, 1, 2, 3, 4, 3, 2, 3, 4, 1, 2, 3, 4, 2, 3, 4, 2, 3, 4, 1, 2, 3, 4, 3, 3, 4, 1, 3, 4, 3, 4, 2, 3, 4, 1, 2, 3, 4, 1, 2, 3, 4, 2, 3, 4, 2, 3, 4, 1, 2, 3, 2, 2, 2, 1, 2, 3, 4, 1, 2, 3, 4, 1, 2, 3, 4, 1, 2, 3, 4, 2, 3, 4, 1, 2, 3, 4, 1, 2, 3, 4, 1, 2, 3, 4, 1, 2, 3, 4, 1, 2, 3, 4, 1, 2, 3, 4, 1, 4], \"Freq\": [0.9874087304233812, 0.9098138154216354, 0.06998567810935657, 0.07252026467370537, 0.02417342155790179, 0.8944165976423663, 0.9898093280915654, 0.00585685992953589, 0.982250347422037, 0.9945097829363381, 0.0048043950866489766, 0.8698834310524488, 0.9793222019655456, 0.9667310208323788, 0.033204690836020956, 0.9463336888265972, 0.016602345418010478, 0.9859545579430798, 0.9607106413455385, 0.9922801671926618, 0.9884047649496818, 0.9207526536060702, 0.05416192080035707, 0.9948539986233629, 0.006814068483721664, 0.9774176973696698, 0.9591637532157665, 0.011746361419406551, 0.9749479978107438, 0.9951914048425579, 0.004308187899751333, 0.9075909781732593, 0.96205679710755, 0.7678317678843518, 0.0025340982438427453, 0.22046654721431883, 0.010136392975370981, 0.9723788626199901, 0.9346283084944572, 0.059657126074114296, 0.9752981279412776, 0.9838831073289742, 0.9146535596261416, 0.06097690397507611, 0.9215468360459584, 0.0526598192026262, 0.025756325403845252, 0.549468275282032, 0.16312339422435326, 0.2661486958397343, 0.9782379432832791, 0.9509073859324086, 0.06399316214602199, 0.895904270044308, 0.040405656588157125, 0.9293301015276139, 0.06763880602630422, 0.8793044783419549, 0.06763880602630422, 0.962343131980144, 0.9774121020689632, 0.9716679847994971, 0.9938926039624129, 0.006950297929807082, 0.9617122918934855, 0.033162492823913294, 0.02872158914071524, 0.9478124416436029, 0.9689928545281004, 0.017618051900510915, 0.9764959355504352, 0.011096544722164037, 0.9773668394998468, 0.9876657884859421, 0.8454959179186878, 0.989086653718759, 0.9698189350523004, 0.992107252872422, 0.03006971194230941, 0.9622307821539011, 0.9890851184190985, 0.9773852187263002, 0.08602078074492175, 0.028673593581640584, 0.8888814010308581, 0.9671343717962826, 0.00511711307828721, 0.00511711307828721, 0.025585565391436048, 0.9862238744286079, 0.9861945034386866, 0.9846355185731009, 0.9591614875044301, 0.9204728952113376, 0.025711533385791553, 0.01542692003147493, 0.03599614674010817, 0.992257913004095, 0.9851625132634683, 0.9824162843331963, 0.8694542795188533, 0.9912061284120925, 0.9751755847656445, 0.9820947880105311, 0.01267219081303911, 0.9075439222420043, 0.9519100058923843, 0.9698316594020098, 0.10889859115021541, 0.8711887292017233, 0.8458301220735159, 0.9437543665057498, 0.02483564122383552, 0.9510608366419558, 0.9535335258128556, 0.9692728312129112, 0.8449013843143454, 0.0751750727533821, 0.9021008730405853, 0.04363023894627868, 0.9162350178718524, 0.040405567936144415, 0.9293280625313215, 0.9335342583847984, 0.03889726076603327, 0.04954188683361664, 0.8917539630050995, 0.9834394751553429, 0.9911280294940419, 0.8459449084095149, 0.8893428122532042, 0.08893428122532042, 0.25688530176290214, 0.05137706035258043, 0.5211101835761729, 0.16881034115847857, 0.8555226568597337, 0.8953719544944728, 0.08139745040858844, 0.31437976385370153, 0.06580041569030962, 0.12428967408169594, 0.4971586963267838, 0.10541788946219197, 0.8784824121849331, 0.6500786126082662, 0.0342146638214877, 0.26231242263140564, 0.057024439702479494, 0.047367161333862734, 0.023683580666931367, 0.18946864533545094, 0.7341910006748723, 0.028065671137522404, 0.4022746196378211, 0.03742089485002987, 0.5332477516129256, 0.4900627436048033, 0.02925747723013751, 0.34377535745411575, 0.1316586475356188, 0.6624824856077749, 0.07200896582693206, 0.2592322769769554, 0.8934557564227715, 0.08122325058388832, 0.949626448421328, 0.022610153533841146, 0.022610153533841146, 0.08592792157003006, 0.028642640523343352, 0.8879218562236438, 0.8154654584091872, 0.28644508806162305, 0.4549421986861072, 0.16849711062448416, 0.09267341084346628, 0.15089682128167262, 0.09285958232718315, 0.5803723895448947, 0.1857191646543663, 0.14185572905727561, 0.18238593735935435, 0.14185572905727561, 0.5370252600025434, 0.25104677098263434, 0.08368225699421145, 0.5857757989594801, 0.08368225699421145, 0.9058129215945344, 0.878464969580087, 0.10334881995059847, 0.11950775652426678, 0.16296512253309106, 0.5649457581147157, 0.15210078103088498, 0.09034167710908055, 0.9034167710908055, 0.9403679663840908, 0.030334450528519057, 0.9036658356143317, 0.07530548630119431, 0.9224570826590739, 0.015122247256706129, 0.030244494513412257, 0.04536674177011839, 0.7741523928383481, 0.011219599896207945, 0.16829399844311918, 0.033658799688623835, 0.3653903438495964, 0.025199334058592857, 0.28979234167381784, 0.31919156474217614, 0.854042978824448, 0.04708293327013495, 0.16949855977248582, 0.6214947191657814, 0.16949855977248582, 0.9105324412737275, 0.07343003558659092, 0.2148047131634352, 0.06783306731476901, 0.5878865833946647, 0.13566613462953803, 0.021120420024713628, 0.021120420024713628, 0.7814555409144043, 0.16896336019770902, 0.9442887225154523, 0.8151980573189935, 0.12001409014017084, 0.09001056760512813, 0.6300739732358969, 0.16501937394273491, 0.12443686454175212, 0.11199317808757692, 0.06221843227087606, 0.7030682846608995, 0.033965978756869825, 0.033965978756869825, 0.9170814264354852, 0.25518256525037736, 0.6946636498482495, 0.05670723672230608, 0.19244544272343675, 0.1603712022695306, 0.4169651259007796, 0.2325382432908194, 0.8777601891226148, 0.08157562683558718, 0.897331895191459, 0.8156146973691285, 0.08094866264413461, 0.3723638481630192, 0.14570759275944228, 0.40474331322067303, 0.0983532593096791, 0.13769456303355074, 0.1770358667574224, 0.5901195558580746, 0.646411368468879, 0.060331727723762045, 0.25856454738755164, 0.03447527298500688, 0.2905718056360912, 0.031781291241447476, 0.6174650869766938, 0.05902239801983102, 0.09475465263566435, 0.11505922105759242, 0.28426395790699305, 0.5008460210742258, 0.32393090618334425, 0.023994881939506982, 0.49189507975989316, 0.1559667326067954, 0.01057024153054077, 0.4968013519354162, 0.08456193224432616, 0.40166917816054926, 0.02980174889154779, 0.8344489689633381, 0.11920699556619116, 0.8247557095750899, 0.10996742794334533, 0.036655809314448444, 0.036655809314448444, 0.5559216469556523, 0.07173182541363254, 0.17932956353408136, 0.18829604171078543, 0.8456734810507345, 0.8531988077928617, 0.03172791229083635, 0.09518373687250906, 0.8249257195617452, 0.03172791229083635, 0.1554705797483368, 0.8550881886158523, 0.9799882798272714, 0.027999665137922042, 0.9690723192821626, 0.027297811810765144, 0.09367600546324209, 0.6226699186674327, 0.060613885887980175, 0.22592448376428975, 0.14150203528554217, 0.18456787211157674, 0.3691357442231535, 0.29530859537852283, 0.4861195064394836, 0.034314318101610605, 0.3431431810161061, 0.13153821938950733, 0.3318032300339483, 0.16590161501697415, 0.2150576490960776, 0.28879170021473277, 0.07031096092608878, 0.08437315311130654, 0.7031096092608878, 0.15468411403739532, 0.04880835946924973, 0.8785504704464953, 0.04880835946924973, 0.030203295231659953, 0.030203295231659953, 0.9060988569497986, 0.7655560306367831, 0.039461651063751706, 0.0947079625530041, 0.10260029276575443, 0.04361869998556902, 0.9159926996969494, 0.9819634351339483, 0.3470948212541549, 0.035417838903485196, 0.26209200788579046, 0.354178389034852, 0.018373112664963196, 0.2847832463069295, 0.14698490131970557, 0.5420068236164143, 0.15589264177411605, 0.16047771947335474, 0.4585077699238707, 0.22466880726269664, 0.05732113886603191, 0.3152662637631755, 0.16479827423984175, 0.45856911092825525, 0.18983304268015425, 0.027119006097164892, 0.7864511768177819, 0.31293687315430924, 0.059350096632713824, 0.3992642864382566, 0.22660945987036188, 0.5124788499841326, 0.09608978437202488, 0.26264541061686797, 0.12811971249603316, 0.9879641870730357, 0.9816783788411974, 0.8960545959197365, 0.059736973061315764, 0.04480272979598682, 0.3935160648569281, 0.22486632277538746, 0.1873886023128229, 0.19363488905658366, 0.14486583519563886, 0.17383900223476662, 0.3940350717321377, 0.28973167039127773, 0.06075682265710604, 0.01518920566427651, 0.6835142548924429, 0.22783808496414765, 0.08374045668956037, 0.016748091337912073, 0.7871602928818674, 0.11723663936538452, 0.17243546967132772, 0.7882764327832124, 0.04926727704895077, 0.1793284532402974, 0.029888075540049564, 0.6425936241110657, 0.14944037770024782, 0.27189054365081217, 0.23006122924299494, 0.16034570522996616, 0.33463451526253807, 0.015813900365648698, 0.015813900365648698, 0.25302240585037916, 0.6958116160885428, 0.04214341635698234, 0.8007249107826645, 0.16857366542792937, 0.032576611989341336, 0.9121451357015574, 0.06515322397868267, 0.16928619652108848, 0.1805719429558277, 0.5078585895632655, 0.14671470365161002, 0.9639391718883176, 0.021577347912208084, 0.5394336978052021, 0.12586786282121382, 0.3128715447270172, 0.1364866403077105, 0.22987223630772294, 0.1364866403077105, 0.49566200953852757, 0.14176917958382007, 0.04725639319460669, 0.8506150775029204, 0.24248848106741674, 0.11573313869126708, 0.3306661105464774, 0.3141328050191535, 0.040323058992679586, 0.08064611798535917, 0.8871072978389508, 0.9607485717871777, 0.11427714820538831, 0.13332333957295303, 0.7428014633350241, 0.01904619136756472, 0.9117707786112476, 0.06512648418651769, 0.08464338882225965, 0.08464338882225965, 0.7900049623410901, 0.056428925881506435, 0.15450807404918468, 0.12875672837432056, 0.4721080040391754, 0.2403458929653984, 0.8935956039091495, 0.5911541968495337, 0.06269817239313237, 0.2507926895725295, 0.09852569947492229, 0.37584933659538267, 0.05011324487938435, 0.40717011464499786, 0.16913220146792218, 0.22246429328725734, 0.4739456683076352, 0.03868944231082736, 0.2708260961757915, 0.35069990671853124, 0.09564542910505397, 0.07173407182879048, 0.47822714552526985, 0.050140599306524036, 0.5515465923717644, 0.04178383275543669, 0.35098419514566825, 0.10663947601026169, 0.3199184280307851, 0.026659869002565423, 0.5420840030521636, 0.8354956028076499, 0.08237280591061337, 0.08237280591061337, 0.9288279183643794, 0.06480194779286368, 0.02825150734156336, 0.08475452202469007, 0.791042205563774, 0.11300602936625344, 0.835635879611743, 0.04642421553398572, 0.11141811728156573, 0.869364297682515, 0.9814990222961397, 0.009669941106365909, 0.009669941106365909, 0.969027752149673, 0.03125895974676365, 0.8361425911231132, 0.0221494726125328, 0.1162847312157972, 0.0221494726125328, 0.23236193081554285, 0.28703532630155293, 0.061507569921761346, 0.41688464058082686, 0.012666499957002772, 0.25332999914005544, 0.06966574976351525, 0.6586579977641441, 0.2156076276252161, 0.5174583063005186, 0.08624305105008644, 0.18326648348143368, 0.19976568917031576, 0.5235238750670343, 0.006888472040355716, 0.26865040957387293, 0.06485065456585833, 0.18158183278440332, 0.16861170187123165, 0.583655891092725, 0.9569730334745216, 0.2154445836790369, 0.09792935621774405, 0.47985384546694587, 0.20565164805726252, 0.13632274048330423, 0.5524658430112855, 0.07174881078068644, 0.24394595665433388, 0.8690687639418961, 0.05787656389551045, 0.8392101764849015, 0.08681484584326567, 0.03095706890781891, 0.1393068100851851, 0.6346199126102877, 0.18574241344691347, 0.9376731595670443, 0.05435786432272721, 0.013589466080681803, 0.051583863176312035, 0.8769256739973046, 0.051583863176312035, 0.19626366365277098, 0.17173070569617463, 0.12266478978298187, 0.507014464436325, 0.8849292149216618, 0.9010352981655014, 0.07508627484712511, 0.0573749202499791, 0.9179987239996656, 0.9341696625068634, 0.9213050084615592, 0.054194412262444654, 0.7953515575463939, 0.181395969264967, 0.013953536097305154, 0.4980694392525707, 0.08920646673180371, 0.14124357232535587, 0.27505327242306143, 0.3584370625644348, 0.17523589725372368, 0.08761794862686184, 0.3743675986784097, 0.5746179522777928, 0.09576965871296547, 0.31923219570988487, 0.031921659643311076, 0.7980414910827768, 0.15960829821655537, 0.003157978408074469, 0.9947631985434576, 0.003157978408074469, 0.9709382802320922, 0.9798340393837337, 0.9840458252547214, 0.02545121141348014, 0.02545121141348014, 0.17815847989436098, 0.7635363424044042, 0.011955371241824334, 0.322795023529257, 0.15541982614371633, 0.5140809633984463, 0.10005830874980806, 0.07004081612486565, 0.05002915437490403, 0.7804548082485029, 0.5179590943663654, 0.031711781287736655, 0.23783835965802494, 0.21141187525157773, 0.04533359575336732, 0.04533359575336732, 0.9066719150673463, 0.23466801184944625, 0.21120121066450162, 0.2933350148118078, 0.25813481303439084, 0.08880101300512447, 0.17760202601024894, 0.2841632416163983, 0.4440050650256223, 0.17763122105610032, 0.44407805264025085, 0.24741491504242547, 0.13322341579207525, 0.28391853494103897, 0.07886625970584416, 0.1577325194116883, 0.47319755823506493, 0.20838726016714962, 0.32415796026001054, 0.3704662402971549, 0.10033460674714612, 0.5349166289227993, 0.1767944790507557, 0.11332979426330493, 0.1767944790507557, 0.9346565573676194, 0.054979797492212906], \"Term\": [\"Ahab\", \"Arabian\", \"Arabian\", \"Arthur\", \"Arthur\", \"Arthur\", \"Bennet\", \"Bennet\", \"Bildad\", \"Bingley\", \"Bingley\", \"Bistritz\", \"Bourgh\", \"Cape\", \"Captain\", \"Captain\", \"Captain\", \"Captain_Ahab\", \"Captain_Peleg\", \"Catherine\", \"Charlotte\", \"Clerval\", \"Clerval\", \"Collins\", \"Collins\", \"Colonel\", \"Colonel_Fitzwilliam\", \"Count\", \"Count\", \"Darcy\", \"Darcy\", \"Diary\", \"Dracula\", \"Elizabeth\", \"Elizabeth\", \"Elizabeth\", \"Elizabeth\", \"Ernest\", \"Felix\", \"Felix\", \"Fitzwilliam\", \"Flask\", \"Frankenstein\", \"Frankenstein\", \"Geneva\", \"Geneva\", \"God\", \"God\", \"God\", \"God\", \"Greenland\", \"Harker\", \"Hawkins\", \"Hawkins\", \"Helsing\", \"Helsing\", \"Henry\", \"Henry\", \"Henry\", \"Hertfordshire\", \"Hurst\", \"Ingolstadt\", \"Jane\", \"Jane\", \"Jonah\", \"Jonah\", \"Jonathan\", \"Jonathan\", \"Justine\", \"Justine\", \"Lady\", \"Lady\", \"Lady Catherine\", \"Lady_Catherine\", \"Last night\", \"Lizzy\", \"Longbourn\", \"Lucas\", \"Lucy\", \"Lucy\", \"Lydia\", \"Meryton\", \"Mina\", \"Mina\", \"Mina\", \"Miss\", \"Miss\", \"Miss\", \"Miss\", \"Miss Bingley\", \"Miss_Bennet\", \"Miss_Bingley\", \"Miss_Lucas\", \"Mrs\", \"Mrs\", \"Mrs\", \"Mrs\", \"Mrs_Bennet\", \"Nantucket\", \"Netherfield\", \"Pass\", \"Peleg\", \"Pequod\", \"Queequeg\", \"Queequeg\", \"Renfield\", \"Rosings\", \"Safie\", \"Seward\", \"Seward\", \"Seward ' s\", \"Sir_William\", \"Sir_William\", \"Slovaks\", \"Starbuck\", \"Stubb\", \"Transylvania\", \"Van\", \"Van\", \"Van Helsing\", \"Van Helsing\", \"Van_Helsing\", \"Van_Helsing\", \"Victor\", \"Victor\", \"Westenra\", \"Westenra\", \"Whale\", \"Wickham\", \"abbey\", \"accent\", \"accent\", \"appear\", \"appear\", \"appear\", \"appear\", \"ardent\", \"ardently\", \"ardently\", \"ask\", \"ask\", \"ask\", \"ask\", \"asleep\", \"asleep\", \"attention\", \"attention\", \"attention\", \"attention\", \"awake\", \"awake\", \"awake\", \"awake\", \"bed\", \"bed\", \"bed\", \"bed\", \"believe\", \"believe\", \"believe\", \"believe\", \"boat\", \"boat\", \"boat\", \"cabin\", \"cabin\", \"captain\", \"captain\", \"captain\", \"castle\", \"castle\", \"castle\", \"celestial\", \"chapter\", \"chapter\", \"chapter\", \"chapter\", \"child\", \"child\", \"child\", \"child\", \"close\", \"close\", \"close\", \"close\", \"countenance\", \"countenance\", \"countenance\", \"countenance\", \"courtyard\", \"creator\", \"creator\", \"creature\", \"creature\", \"creature\", \"creature\", \"creep\", \"creep\", \"crew\", \"crew\", \"crime\", \"crime\", \"dance\", \"dance\", \"dance\", \"dance\", \"daughter\", \"daughter\", \"daughter\", \"daughter\", \"dear\", \"dear\", \"dear\", \"dear\", \"dearest\", \"death\", \"death\", \"death\", \"death\", \"deck\", \"deck\", \"desire\", \"desire\", \"desire\", \"desire\", \"despair\", \"despair\", \"despair\", \"despair\", \"diary\", \"disaster\", \"discover\", \"discover\", \"discover\", \"discover\", \"door\", \"door\", \"door\", \"door\", \"driver\", \"driver\", \"driver\", \"endeavour\", \"endeavour\", \"endeavour\", \"enter\", \"enter\", \"enter\", \"enter\", \"enterprise\", \"enthusiasm\", \"enthusiasm\", \"execute\", \"face\", \"face\", \"face\", \"face\", \"fall\", \"fall\", \"fall\", \"fall\", \"family\", \"family\", \"family\", \"family\", \"father\", \"father\", \"father\", \"father\", \"fear\", \"fear\", \"fear\", \"fear\", \"feeling\", \"feeling\", \"feeling\", \"feeling\", \"foot\", \"foot\", \"foot\", \"foot\", \"forever\", \"forever\", \"forever\", \"gentleman\", \"gentleman\", \"gentleman\", \"gentleman\", \"girl\", \"girl\", \"girl\", \"girl\", \"glacier\", \"government\", \"grief\", \"grief\", \"grief\", \"grief\", \"harbour\", \"harbour\", \"harpoon\", \"harpoon\", \"harpooneer\", \"harpooneer\", \"head\", \"head\", \"head\", \"head\", \"heart\", \"heart\", \"heart\", \"heart\", \"hope\", \"hope\", \"hope\", \"hope\", \"house\", \"house\", \"house\", \"house\", \"human\", \"human\", \"human\", \"human\", \"innocence\", \"innocence\", \"innocence\", \"key\", \"key\", \"key\", \"lady\", \"lady\", \"lady\", \"lady\", \"later\", \"later\", \"leg\", \"letter\", \"letter\", \"letter\", \"letter\", \"lie\", \"lie\", \"lie\", \"lie\", \"life\", \"life\", \"life\", \"life\", \"light\", \"light\", \"light\", \"light\", \"lock\", \"lock\", \"lock\", \"love\", \"love\", \"love\", \"love\", \"manner\", \"manner\", \"manner\", \"manner\", \"mast\", \"mast_head\", \"mate\", \"mate\", \"mate\", \"mean\", \"mean\", \"mean\", \"mean\", \"mind\", \"mind\", \"mind\", \"mind\", \"miserable\", \"miserable\", \"miserable\", \"miserable\", \"misery\", \"misery\", \"misery\", \"misery\", \"misfortune\", \"misfortune\", \"misfortune\", \"month\", \"month\", \"month\", \"month\", \"morning\", \"morning\", \"morning\", \"morning\", \"mountain\", \"mountain\", \"mountain\", \"mountain\", \"murder\", \"murder\", \"murder\", \"murderer\", \"murderer\", \"murderer\", \"nature\", \"nature\", \"nature\", \"nature\", \"oil\", \"old\", \"old\", \"old\", \"old\", \"open\", \"open\", \"open\", \"open\", \"outside\", \"outside\", \"outside\", \"pass\", \"pass\", \"pass\", \"pass\", \"patient\", \"patient\", \"patient\", \"pipe\", \"possess\", \"possess\", \"possess\", \"possess\", \"protector\", \"protector\", \"pursue\", \"pursue\", \"pursue\", \"pursue\", \"remain\", \"remain\", \"remain\", \"remain\", \"remorse\", \"reply\", \"reply\", \"reply\", \"reply\", \"return\", \"return\", \"return\", \"return\", \"right\", \"right\", \"right\", \"right\", \"room\", \"room\", \"room\", \"room\", \"round\", \"round\", \"round\", \"round\", \"run\", \"run\", \"run\", \"run\", \"sail\", \"sail\", \"sail\", \"sailor\", \"sailor\", \"science\", \"science\", \"science\", \"science\", \"sea\", \"sea\", \"sea\", \"shed\", \"ship\", \"ship\", \"ship\", \"shipmate\", \"shipmate\", \"sister\", \"sister\", \"sister\", \"sister\", \"sit\", \"sit\", \"sit\", \"sit\", \"sleep\", \"sleep\", \"sleep\", \"sleep\", \"small\", \"small\", \"small\", \"small\", \"sort\", \"sort\", \"sort\", \"sort\", \"sound\", \"sound\", \"sound\", \"sound\", \"sperm\", \"spirit\", \"spirit\", \"spirit\", \"spirit\", \"stand\", \"stand\", \"stand\", \"stand\", \"sympathize\", \"tale\", \"tale\", \"tale\", \"tear\", \"tear\", \"tear\", \"tear\", \"thou\", \"thou\", \"thou\", \"torture\", \"torture\", \"torture\", \"try\", \"try\", \"try\", \"try\", \"undertaking\", \"unfortunate\", \"unfortunate\", \"union\", \"union\", \"valley\", \"victim\", \"victim\", \"voyage\", \"voyage\", \"voyage\", \"walk\", \"walk\", \"walk\", \"walk\", \"want\", \"want\", \"want\", \"want\", \"water\", \"water\", \"water\", \"weep\", \"weep\", \"weep\", \"whale\", \"whale\", \"whale\", \"whale_ship\", \"whaleman\", \"whaling\", \"whilst\", \"whilst\", \"whilst\", \"whilst\", \"wind\", \"wind\", \"wind\", \"wind\", \"window\", \"window\", \"window\", \"window\", \"wish\", \"wish\", \"wish\", \"wish\", \"wolf\", \"wolf\", \"wolf\", \"word\", \"word\", \"word\", \"word\", \"work\", \"work\", \"work\", \"work\", \"world\", \"world\", \"world\", \"world\", \"write\", \"write\", \"write\", \"write\", \"year\", \"year\", \"year\", \"year\", \"young\", \"young\", \"young\", \"young\", \"young_lady\", \"young_lady\"]}, \"R\": 30, \"lambda.step\": 0.01, \"plot.opts\": {\"xlab\": \"PC1\", \"ylab\": \"PC2\"}, \"topic.order\": [4, 3, 1, 2]};\n",
       "\n",
       "function LDAvis_load_lib(url, callback){\n",
       "  var s = document.createElement('script');\n",
       "  s.src = url;\n",
       "  s.async = true;\n",
       "  s.onreadystatechange = s.onload = callback;\n",
       "  s.onerror = function(){console.warn(\"failed to load library \" + url);};\n",
       "  document.getElementsByTagName(\"head\")[0].appendChild(s);\n",
       "}\n",
       "\n",
       "if(typeof(LDAvis) !== \"undefined\"){\n",
       "   // already loaded: just create the visualization\n",
       "   !function(LDAvis){\n",
       "       new LDAvis(\"#\" + \"ldavis_el1228015961802732326394267984\", ldavis_el1228015961802732326394267984_data);\n",
       "   }(LDAvis);\n",
       "}else if(typeof define === \"function\" && define.amd){\n",
       "   // require.js is available: use it to load d3/LDAvis\n",
       "   require.config({paths: {d3: \"https://d3js.org/d3.v5\"}});\n",
       "   require([\"d3\"], function(d3){\n",
       "      window.d3 = d3;\n",
       "      LDAvis_load_lib(\"https://cdn.jsdelivr.net/gh/bmabey/pyLDAvis@3.4.0/pyLDAvis/js/ldavis.v3.0.0.js\", function(){\n",
       "        new LDAvis(\"#\" + \"ldavis_el1228015961802732326394267984\", ldavis_el1228015961802732326394267984_data);\n",
       "      });\n",
       "    });\n",
       "}else{\n",
       "    // require.js not available: dynamically load d3 & LDAvis\n",
       "    LDAvis_load_lib(\"https://d3js.org/d3.v5.js\", function(){\n",
       "         LDAvis_load_lib(\"https://cdn.jsdelivr.net/gh/bmabey/pyLDAvis@3.4.0/pyLDAvis/js/ldavis.v3.0.0.js\", function(){\n",
       "                 new LDAvis(\"#\" + \"ldavis_el1228015961802732326394267984\", ldavis_el1228015961802732326394267984_data);\n",
       "            })\n",
       "         });\n",
       "}\n",
       "</script>"
      ],
      "text/plain": [
       "<IPython.core.display.HTML object>"
      ]
     },
     "execution_count": 58,
     "metadata": {},
     "output_type": "execute_result"
    }
   ],
   "source": [
    "# plot topics\n",
    "import pyLDAvis\n",
    "data =  pyLDAvis.gensim_models.prepare(model, corpus, dictionary)\n",
    "pyLDAvis.display(data)"
   ]
  },
  {
   "cell_type": "code",
   "execution_count": 59,
   "metadata": {},
   "outputs": [],
   "source": [
    "# assignment\n",
    "sent_to_cluster = list()\n",
    "for n,doc in enumerate(corpus):\n",
    "    if doc:\n",
    "        cluster = max(model[doc],key=lambda x:x[1])\n",
    "        sent_to_cluster.append(cluster[0])"
   ]
  },
  {
   "cell_type": "code",
   "execution_count": 60,
   "metadata": {},
   "outputs": [
    {
     "name": "stdout",
     "output_type": "stream",
     "text": [
      "DRACULA.txt : 1 - 60\n",
      "Accuracy: 1.0\n",
      "------\n",
      "Frankenstein.txt : 0 - 54\n",
      "Accuracy: 0.9\n",
      "------\n",
      "Moby_Dick.txt : 2 - 58\n",
      "Accuracy: 0.9666666666666667\n",
      "------\n",
      "PRIDE_AND_PREJUDICE.txt : 3 - 60\n",
      "Accuracy: 1.0\n",
      "------\n"
     ]
    }
   ],
   "source": [
    "# accuracy\n",
    "from collections import Counter\n",
    "for book, cluster in book_id.items():\n",
    "    assignments = list()\n",
    "    for real,given in zip(chunk_class,sent_to_cluster):\n",
    "        if real == cluster:\n",
    "            assignments.append(given)\n",
    "    most_common,num_most_common = Counter(assignments).most_common(1)[0] # 4, 6 times\n",
    "    print(book,\":\",most_common,\"-\",num_most_common)\n",
    "    print(\"Accuracy:\",num_most_common/limit)\n",
    "    print(\"------\")"
   ]
  },
  {
   "cell_type": "markdown",
   "metadata": {},
   "source": [
    "# Task 4: Semantic analysis based on lexical categories"
   ]
  },
  {
   "cell_type": "code",
   "execution_count": 61,
   "metadata": {},
   "outputs": [],
   "source": [
    "from empath import Empath\n",
    "lexicon = Empath()"
   ]
  },
  {
   "cell_type": "markdown",
   "metadata": {},
   "source": [
    "### Let's see what pre-build categories we can study! More information: https://hci.stanford.edu/publications/2016/ethan/empath-chi-2016.pdf"
   ]
  },
  {
   "cell_type": "code",
   "execution_count": 62,
   "metadata": {},
   "outputs": [
    {
     "name": "stdout",
     "output_type": "stream",
     "text": [
      "help\n",
      "office\n",
      "dance\n",
      "money\n",
      "wedding\n",
      "domestic_work\n",
      "sleep\n",
      "medical_emergency\n",
      "cold\n",
      "hate\n",
      "cheerfulness\n",
      "aggression\n",
      "occupation\n",
      "envy\n",
      "anticipation\n"
     ]
    }
   ],
   "source": [
    "for cat in list(lexicon.cats.keys())[:15]:\n",
    "    print(cat)"
   ]
  },
  {
   "cell_type": "markdown",
   "metadata": {},
   "source": [
    "### For each category, we can examine representative terms"
   ]
  },
  {
   "cell_type": "code",
   "execution_count": 63,
   "metadata": {},
   "outputs": [
    {
     "data": {
      "text/plain": [
       "['sedate',\n",
       " 'chronic',\n",
       " 'relievers',\n",
       " 'kidney',\n",
       " 'treatment',\n",
       " 'infection',\n",
       " 'trimester',\n",
       " 'surgeon',\n",
       " 'antibiotic',\n",
       " 'immune',\n",
       " 'traumatic',\n",
       " 'testing',\n",
       " 'health',\n",
       " 'painkiller',\n",
       " 'prenatal']"
      ]
     },
     "execution_count": 63,
     "metadata": {},
     "output_type": "execute_result"
    }
   ],
   "source": [
    "lexicon.cats[\"health\"][:15]"
   ]
  },
  {
   "cell_type": "markdown",
   "metadata": {},
   "source": [
    "### Studying Pride and Prejudice"
   ]
  },
  {
   "cell_type": "code",
   "execution_count": 64,
   "metadata": {},
   "outputs": [],
   "source": [
    "nlp = spacy.load('en_core_web_sm')\n",
    "doc = nlp(books[3])"
   ]
  },
  {
   "cell_type": "code",
   "execution_count": 65,
   "metadata": {},
   "outputs": [],
   "source": [
    "empath_features = lexicon.analyze(doc.text,categories = [\"disappointment\", \"pain\", \"joy\", \"beauty\", \"affection\"])"
   ]
  },
  {
   "cell_type": "code",
   "execution_count": 66,
   "metadata": {},
   "outputs": [
    {
     "data": {
      "text/plain": [
       "{'disappointment': 149.0,\n",
       " 'pain': 228.0,\n",
       " 'joy': 278.0,\n",
       " 'beauty': 136.0,\n",
       " 'affection': 439.0}"
      ]
     },
     "execution_count": 66,
     "metadata": {},
     "output_type": "execute_result"
    }
   ],
   "source": [
    "empath_features"
   ]
  },
  {
   "cell_type": "code",
   "execution_count": 67,
   "metadata": {},
   "outputs": [],
   "source": [
    "empath_features = lexicon.analyze(doc.text,categories = [\"disappointment\", \"pain\", \"joy\", \"beauty\", \"affection\"], normalize = True)"
   ]
  },
  {
   "cell_type": "code",
   "execution_count": 68,
   "metadata": {},
   "outputs": [
    {
     "data": {
      "text/plain": [
       "{'disappointment': 0.0012256615693403638,\n",
       " 'pain': 0.001875508978587939,\n",
       " 'joy': 0.002286804807225645,\n",
       " 'beauty': 0.0011187246538945602,\n",
       " 'affection': 0.0036111773754390585}"
      ]
     },
     "execution_count": 68,
     "metadata": {},
     "output_type": "execute_result"
    }
   ],
   "source": [
    "empath_features"
   ]
  },
  {
   "cell_type": "markdown",
   "metadata": {},
   "source": [
    "### Usecase: the evolution of topics"
   ]
  },
  {
   "cell_type": "code",
   "execution_count": 69,
   "metadata": {},
   "outputs": [],
   "source": [
    "bins = range(0,len(doc.text),150000)\n"
   ]
  },
  {
   "cell_type": "code",
   "execution_count": 70,
   "metadata": {},
   "outputs": [],
   "source": [
    "love = []\n",
    "pain = []\n",
    "beauty = []\n",
    "affection = []\n",
    "\n",
    "\n",
    "for cnt,i in enumerate(bins[:-1]):\n",
    "    empath_features = lexicon.analyze(doc.text[bins[cnt]:bins[cnt+1]],\n",
    "                                      categories = [\"love\", \"pain\", \"joy\", \"beauty\", \"affection\"], normalize = True)\n",
    "    love.append(empath_features[\"love\"])\n",
    "    pain.append(empath_features[\"pain\"])\n",
    "    beauty.append(empath_features[\"beauty\"])\n",
    "    affection.append(empath_features[\"affection\"])"
   ]
  },
  {
   "cell_type": "code",
   "execution_count": 71,
   "metadata": {},
   "outputs": [
    {
     "data": {
      "text/plain": [
       "<matplotlib.legend.Legend at 0x1739bda2150>"
      ]
     },
     "execution_count": 71,
     "metadata": {},
     "output_type": "execute_result"
    },
    {
     "data": {
      "image/png": "[encoded data removed]",
      "text/plain": [
       "<Figure size 640x480 with 1 Axes>"
      ]
     },
     "metadata": {},
     "output_type": "display_data"
    }
   ],
   "source": [
    "plt.plot(love,label = \"love\")\n",
    "plt.plot(beauty, label = \"beauty\")\n",
    "plt.plot(affection, label = \"affection\")\n",
    "plt.plot(pain,label = \"pain\")\n",
    "\n",
    "plt.xlabel(\"progression in the book\")\n",
    "plt.ylabel(\"frequency of a category\")\n",
    "plt.legend()"
   ]
  },
  {
   "cell_type": "code",
   "execution_count": 72,
   "metadata": {},
   "outputs": [],
   "source": [
    "# We can observe how as the story progresses, beauty and affection categories decrease, while love and pain intensify!"
   ]
  },
  {
   "cell_type": "markdown",
   "metadata": {},
   "source": [
    "### We can create custom categories based on seed terms!\n",
    "### Models trained on: fiction, nytimes or reddit"
   ]
  },
  {
   "cell_type": "code",
   "execution_count": 73,
   "metadata": {},
   "outputs": [
    {
     "name": "stdout",
     "output_type": "stream",
     "text": [
      "[\"avocado\", \"kale\", \"Swiss_chard\", \"escarole\", \"black_beans\", \"cucumber\", \"dill\", \"leek\", \"mango\", \"red_peppers\", \"chicory\", \"chanterelles\", \"chutney\", \"tamarind\", \"papaya\", \"black_olives\", \"endive\", \"pesto\", \"walnuts\", \"green_beans\", \"bok_choy\", \"portobello_mushrooms\", \"lemon_grass\", \"radicchio\", \"ricotta\", \"chicken_breast\", \"porcini\", \"blue_cheese\", \"snow_peas\", \"pickled\", \"Gorgonzola\", \"chorizo\", \"yams\", \"hazelnuts\", \"fresh_tomatoes\", \"shiitake_mushrooms\", \"anchovies\", \"wild_rice\", \"scallion\", \"red_onions\", \"broccoli_rape\", \"red_cabbage\", \"wasabi\", \"sweet_potato\", \"feta\", \"roasted_garlic\", \"compote\", \"napoleon\", \"aioli\", \"crab_meat\", \"cauliflower\", \"jicama\", \"parsnips\", \"apricots\", \"new_potatoes\", \"truffle_oil\", \"lemongrass\", \"pistachios\", \"saut\\u00e9ed\", \"gnocchi\", \"duck_confit\", \"fresh_herbs\", \"ratatouille\", \"white_beans\", \"croutons\", \"fresh_mozzarella\", \"squab\", \"watercress\", \"roasted_red_peppers\", \"pine_nuts\", \"fritters\", \"butternut_squash\", \"fava_beans\", \"drizzled\", \"red_onion\", \"pea_shoots\", \"rosemary\", \"romaine\", \"mustard_greens\", \"horseradish\", \"caramelized_onions\", \"artichoke_hearts\", \"fettuccine\", \"grilled_eggplant\", \"julienne\", \"plum_tomatoes\", \"grilled_chicken\", \"pineapple\", \"candied\", \"pancetta\", \"celery_root\", \"sea_scallops\", \"shiitake\", \"porcini_mushrooms\", \"sour_cream\", \"bean_sprouts\", \"oyster_mushrooms\", \"monkfish\", \"chickpeas\", \"coconut_milk\"]\n"
     ]
    }
   ],
   "source": [
    "lexicon.create_category(\"healthy_food\", [\"healthy_food\",\"low_carb\",\"kale\",\"avocado\"], model=\"nytimes\")"
   ]
  },
  {
   "cell_type": "code",
   "execution_count": 74,
   "metadata": {},
   "outputs": [
    {
     "name": "stdout",
     "output_type": "stream",
     "text": [
      "[\"green_vegetables\", \"leafy_greens\", \"whole_grain_bread\", \"brown_rice\", \"white_rice\", \"green_veggies\", \"veggies\", \"whole_wheat_bread\", \"sweet_potatoes\", \"raw_veggies\", \"lean_meat\", \"spinach\", \"fatty_meat\", \"kale\", \"sweet_potato\", \"avocado\", \"hummus\", \"chicken_breast\", \"veggie\", \"whole_grain\", \"vegetables\", \"whole_wheat_pasta\", \"salads\", \"broccoli\", \"greek_yogurt\", \"Greek_yogurt\", \"yogurt\", \"avocados\", \"rice_cakes\", \"raw_vegetables\", \"almonds\", \"lean_protein\", \"grilled_chicken\", \"quinoa\", \"steamed_broccoli\", \"whole_grain_pasta\", \"brocolli\", \"kale\", \"avocado\", \"tofu\", \"Veggies\", \"edamame\", \"more_veggies\", \"lean_meats\", \"quinoa\", \"salad\", \"cottage_cheese\", \"whole_wheat\", \"wheat_bread\", \"romaine_lettuce\", \"white_bread\", \"raw_spinach\", \"oatmeal\", \"white_potatoes\", \"almond_butter\", \"pork_rinds\", \"veg\", \"cashews\", \"greek_yoghurt\", \"baby_carrots\", \"fresh_veggies\", \"fatty_meats\", \"more_vegetables\", \"avacado\", \"veges\", \"nut_butter\", \"hard_boiled_eggs\", \"carrot_sticks\", \"whole_grains\", \"grilled_chicken_breast\", \"steamed_vegetables\", \"meats\", \"lentils\", \"green_beans\", \"low_cal\", \"nuts/seeds\", \"iceberg_lettuce\", \"carrots\", \"red_meat\", \"other_foods\", \"fried_foods\", \"smoothies\", \"healthy_fats\", \"vegies\", \"avacados\", \"other_vegetables\", \"fresh_fruit\", \"spinach_salad\", \"egg_whites\", \"steamed_veggies\", \"nut_butters\", \"ground_turkey\", \"baked_chicken\"]\n"
     ]
    }
   ],
   "source": [
    "lexicon.create_category(\"healthy_food\", [\"healthy_food\",\"low_carb\",\"kale\",\"avocado\"], model=\"reddit\")"
   ]
  },
  {
   "cell_type": "code",
   "execution_count": 75,
   "metadata": {},
   "outputs": [
    {
     "name": "stdout",
     "output_type": "stream",
     "text": [
      "[\"turkey\", \"roast_beef\", \"white_bread\", \"fried_chicken\", \"pancakes\", \"peanut_butter\", \"gefilte_fish\", \"stuffing\", \"French_fries\", \"meatloaf\", \"brisket\", \"potato_salad\", \"pumpkin_pie\", \"scrambled_eggs\", \"french_fries\", \"spaghetti\", \"gravy\", \"tamales\", \"pot_roast\", \"oatmeal\", \"lasagna\", \"corned_beef\", \"latkes\", \"pickles\", \"sauerkraut\", \"burger\", \"grits\", \"biscuits\", \"hamburger\", \"salad_bar\", \"corn_bread\", \"chicken_soup\", \"bacon\", \"cream_cheese\", \"brownies\", \"tofu\", \"pastrami\", \"pork_chops\", \"salami\", \"marshmallows\", \"collard_greens\", \"macaroni\", \"pies\", \"raw_fish\", \"eggnog\", \"cheeseburgers\", \"truffles\", \"chocolate_cake\", \"hard-boiled_eggs\", \"baked_potatoes\", \"venison\", \"cottage_cheese\", \"pheasant\", \"applesauce\", \"quail\", \"fruit_salad\", \"meatballs\", \"chocolate_chip_cookies\", \"tacos\", \"roast\", \"jelly\", \"chicken_salad\", \"omelet\", \"gumbo\", \"steaks\", \"soup\", \"lox\", \"sausage\", \"roast_chicken\", \"rye\", \"bagel\", \"fruitcake\", \"fries\", \"fried_eggs\", \"ketchup\", \"chicken_wings\", \"barbecue_sauce\", \"sweet_potatoes\", \"pasta\", \"sausages\", \"crackers\", \"omelets\", \"roasting\", \"French_toast\", \"muffins\", \"mashed_potatoes\", \"fresh_fruit\", \"baked_potato\", \"waffles\", \"cranberry_sauce\", \"baked_beans\", \"cheese\", \"tripe\", \"noodles\", \"maple_syrup\", \"quiche\", \"buns\", \"baklava\", \"stews\"]\n"
     ]
    }
   ],
   "source": [
    "lexicon.create_category(\"festive_food\", [\"festive_food\",\"turkey\",\"eggnog\"], model=\"nytimes\")"
   ]
  },
  {
   "cell_type": "markdown",
   "metadata": {},
   "source": [
    "### List of further resources\n",
    "    * NLTK\n",
    "    * Jellyfish: string similarity library\n",
    "    * TextBlob: simplified text processing\n",
    "    * PyEnchant: language detection\n",
    "    * WordNet: ontology of concepts (inc. in NLTK)\n",
    "    * Stanford NLP (Java)\n",
    "    * Tweet NLP: https://www.cs.cmu.edu/~ark/TweetNLP/"
   ]
  },
  {
   "cell_type": "markdown",
   "metadata": {},
   "source": [
    "## Part 2"
   ]
  },
  {
   "cell_type": "markdown",
   "metadata": {},
   "source": [
    "### Question 1:\n",
    "An NLP preprocessing model, using the list of stopwords ['a', 'the', 'is', 'you', 'I','my','with','was'] for the input sentence\n",
    "“I was driving down the street with my CAR! :)” <br>\n",
    "gives the following output: {driving, down, street, car, :)}.\n",
    "The model consists of: <br>\n",
    "\n",
    "a) Stopword Removal, Casefolding and Stemming <br>\n",
    "b) Stopword Removal and Casefolding <br>\n",
    "c) Stopword Removal and Stemming <br>\n",
    "d) Casefolding and Stemming <br>"
   ]
  },
  {
   "cell_type": "code",
   "execution_count": null,
   "metadata": {},
   "outputs": [],
   "source": [
    "# write your code and/or answer here\n",
    "# b)"
   ]
  },
  {
   "cell_type": "markdown",
   "metadata": {},
   "source": [
    "### Question 2:\n",
    "What statement is false about topic detection using LSA: <br>\n",
    "\n",
    "a) It finds the representation of documents and words in the latent \"topic space\" <br>\n",
    "b) It produces topics interpretable in “word space” <br>\n",
    "c) A document's topic representation is a probability distribution over topics <br>\n",
    "d) The vectors representing topics in “word space” are linearly independent <br>"
   ]
  },
  {
   "cell_type": "code",
   "execution_count": null,
   "metadata": {},
   "outputs": [],
   "source": [
    "# write your code and/or answer here\n",
    "# c) ? otherwise d)"
   ]
  },
  {
   "cell_type": "markdown",
   "metadata": {},
   "source": [
    "### Question 3:\n",
    "The problem of having more features than documents when using a TF-IDF matrix for document classification cannot be addressed by: <br>\n",
    "\n",
    "a) Using SVD for dimensionality reduction <br>\n",
    "b) Using min-max scaling of features <br>\n",
    "c) Penalizing very large positive and very large negative weights (a.k.a. regularization) <br>\n",
    "d) Using online feature selection <br>"
   ]
  },
  {
   "cell_type": "code",
   "execution_count": null,
   "metadata": {},
   "outputs": [],
   "source": [
    "# write your code and/or answer here"
   ]
  },
  {
   "cell_type": "markdown",
   "metadata": {},
   "source": [
    "### Question 4:\n",
    "Which of the following is false about word vectors: <br>\n",
    "\n",
    "a) Word2vec is used to achieve a lower dimensional representation than bag of words <br>\n",
    "b) Semantically similar words typically have similar word2vec vectors <br>\n",
    "c) Each dimension in the word2vec embedding has a clear interpretation <br>\n",
    "d) Word2Vec can be used for the computation of sentence vectors <br>"
   ]
  },
  {
   "cell_type": "code",
   "execution_count": null,
   "metadata": {},
   "outputs": [],
   "source": [
    "# write your code and/or answer here"
   ]
  },
  {
   "cell_type": "markdown",
   "metadata": {},
   "source": [
    "### Question 5:\n",
    "Given the following word (W) / context (C) co-occurrence frequencies, which statement is true regarding the pointwise mutual information (PMI)?\n",
    "\n",
    "|  |W1|W2|W3|\n",
    "|--|--|--|--|\n",
    "|C1| 2| 0| 3|\n",
    "|C2| 6| 4| 0|\n",
    "|C3| 1| 1| 3|\n",
    "\n",
    "a) PMI(w=W1, c=C2) > PMI(w=W2, c=C2) > PMI(w=W3, c=C3) <br>\n",
    "b) PMI(w=W2, c=C2) > PMI(w=W1, c=C2) >  PMI(w=W3, c=C3) <br>\n",
    "c) PMI(w=W3, c=C3) > PMI(w=W1, c=C2) > PMI(w=W2, c=C2) <br>\n",
    "d) PMI(w=W3, c=C3) > PMI(w=W2, c=C2) > PMI(w=W1, c=C2) <br>"
   ]
  },
  {
   "cell_type": "code",
   "execution_count": null,
   "metadata": {},
   "outputs": [],
   "source": [
    "# write your code and/or answer here"
   ]
  }
 ],
 "metadata": {
  "kernelspec": {
   "display_name": "nlp",
   "language": "python",
   "name": "python3"
  },
  "language_info": {
   "codemirror_mode": {
    "name": "ipython",
    "version": 3
   },
   "file_extension": ".py",
   "mimetype": "text/x-python",
   "name": "python",
   "nbconvert_exporter": "python",
   "pygments_lexer": "ipython3",
   "version": "3.12.11"
  },
  "toc": {
   "colors": {
    "hover_highlight": "#DAA520",
    "navigate_num": "#000000",
    "navigate_text": "#333333",
    "running_highlight": "#FF0000",
    "selected_highlight": "#FFD700",
    "sidebar_border": "#EEEEEE",
    "wrapper_background": "#FFFFFF"
   },
   "moveMenuLeft": true,
   "nav_menu": {
    "height": "228px",
    "width": "252px"
   },
   "navigate_menu": true,
   "number_sections": true,
   "sideBar": true,
   "threshold": 4,
   "toc_cell": false,
   "toc_section_display": "block",
   "toc_window_display": false,
   "widenNotebook": false
  },
  "varInspector": {
   "cols": {
    "lenName": 16,
    "lenType": 16,
    "lenVar": 40
   },
   "kernels_config": {
    "python": {
     "delete_cmd_postfix": "",
     "delete_cmd_prefix": "del ",
     "library": "var_list.py",
     "varRefreshCmd": "print(var_dic_list())"
    },
    "r": {
     "delete_cmd_postfix": ") ",
     "delete_cmd_prefix": "rm(",
     "library": "var_list.r",
     "varRefreshCmd": "cat(var_dic_list()) "
    }
   },
   "types_to_exclude": [
    "module",
    "function",
    "builtin_function_or_method",
    "instance",
    "_Feature"
   ],
   "window_display": false
  }
 },
 "nbformat": 4,
 "nbformat_minor": 4
}
